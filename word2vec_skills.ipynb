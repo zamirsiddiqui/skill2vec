{
 "cells": [
  {
   "cell_type": "code",
   "execution_count": 70,
   "metadata": {
    "collapsed": true
   },
   "outputs": [],
   "source": [
    "import pandas as pd\n",
    "import numpy as np\n",
    "import cPickle \n",
    "from nltk.corpus import stopwords\n",
    "from gensim.models import word2vec\n",
    "import nltk.data\n",
    "import re\n",
    "import logging"
   ]
  },
  {
   "cell_type": "code",
   "execution_count": 71,
   "metadata": {},
   "outputs": [
    {
     "name": "stdout",
     "output_type": "stream",
     "text": [
      "7146\n"
     ]
    },
    {
     "data": {
      "text/plain": [
       "[u'addm',\n",
       " u'configuration_management_database',\n",
       " u'servicenow',\n",
       " u'it_service_management',\n",
       " u'itil',\n",
       " u'service_management',\n",
       " u'ddm',\n",
       " u'bmc_remedy',\n",
       " u'issue_tracking',\n",
       " u'configuration',\n",
       " u'knowledge_management',\n",
       " u'help_desk',\n",
       " u'normalization',\n",
       " u'bppm',\n",
       " u'patrol',\n",
       " u'bmc_patrol',\n",
       " u'event_management',\n",
       " u'systems_management',\n",
       " u'performance_management',\n",
       " u'awr',\n",
       " u'tkprof',\n",
       " u'sql_trace',\n",
       " u'data_pump',\n",
       " u'oracle_dba',\n",
       " u'oracle_grid_control',\n",
       " u'statspack',\n",
       " u'tde',\n",
       " u'recovery',\n",
       " u'mef',\n",
       " u'vldb',\n",
       " u'nmon']"
      ]
     },
     "execution_count": 71,
     "metadata": {},
     "output_type": "execute_result"
    }
   ],
   "source": [
    "with open(\"prep_data_tokens_underscore_1\", \"rb\") as g:\n",
    "    data_dice = cPickle.load(g)\n",
    "print len(data_dice)\n",
    "data_dice[0]"
   ]
  },
  {
   "cell_type": "code",
   "execution_count": 22,
   "metadata": {},
   "outputs": [
    {
     "name": "stdout",
     "output_type": "stream",
     "text": [
      "261724\n",
      "80810\n"
     ]
    },
    {
     "data": {
      "text/plain": [
       "job_title\n",
       ".net                                           [microsoft_office_sharepoint_server]\n",
       ".net application                                     [architect, .net, asp.net, c#]\n",
       ".net developer                    [.net, sharepoint, moss, asp.net, html/html5, ...\n",
       ".net engineer                     [.net, .net, asp.net, javascript, mobile_appli...\n",
       ".net programmer                                                              [.net]\n",
       ".net tech lead                                                               [.net]\n",
       ".net technical                    [web_api, javascript, jquery, ajax, css, html,...\n",
       "1st 2nd 3rd line support                                      [encryption_software]\n",
       "1st line support                  [business_analysis, business_analyst, 1st_line...\n",
       "2 line support                    [active_directory, ad, computer_science, compu...\n",
       "2d artist                         [must_have_portfolio, concept_art, illustrator...\n",
       "2d character artist               [2d_graphics, 2d_concept_artist, 2d, enviormen...\n",
       "2d concept artist                 [2d_graphics, 2d_concept_artist, 2d, enviormen...\n",
       "2nd line support                  [active_directory, ad, computer_science, compu...\n",
       "3 line support                    [active_directory, ad, computer_science, compu...\n",
       "3d animation                                                            [3d, unity]\n",
       "3d animatior                          [3d, cloud_premiere, aftereffects, cinema_4d]\n",
       "3d animator                                                             [3d, unity]\n",
       "3d artist                         [game, gaming, android, ios, app, apps, applic...\n",
       "3d character artist               [autodesk_3ds_max_(fka_3d_studimax), maya, zbr...\n",
       "3d design                         [visual_effects, vfx, maya, 3d, 3d_rendering, ...\n",
       "3d designer                       [industrial_design, 3d_rendering, 3dstudio/may...\n",
       "3d developer                      [3d_engine, 3d_graphics, infographics, apis, c...\n",
       "3d game engine developer          [3d_engine, 3d_graphics, infographics, apis, c...\n",
       "3d graphics developer             [3d_engine, 3d_graphics, infographics, apis, c...\n",
       "3d modeler                        [weapon, weapons, artist, modeler, portfolio, ...\n",
       "3d modelers                                                        [games, organic]\n",
       "3d software engineer              [3d_engine, 3d_graphics, infographics, apis, c...\n",
       "3d tech artist                    [unity, unity3d, unreal, engine, 3d, 3dsmax, m...\n",
       "3d technical artist               [unity, unity3d, unreal, engine, 3d, 3dsmax, m...\n",
       "                                                        ...                        \n",
       "web marketing analyst             [marketing, analyst, analysis, data_mining, da...\n",
       "web producer                      [ecommerce, e-commerce, project_management, pr...\n",
       "web production artist                       [production, photoshop, web, html, css]\n",
       "web security engineer             [node.js, javascript, rest, web_server, security]\n",
       "web ui engineer                                [javascript, html, css, html5, css3]\n",
       "web/digital project manager       [digital_project_management, web_project_manag...\n",
       "webcast                           [support, maitain, tickets, broadcasts, webcas...\n",
       "website content manager           [website, web, website_content, web_content, m...\n",
       "website content senior manager    [website, web, website_content, web_content, m...\n",
       "wed development                   [java_scrip, java-scrip, html, css, perl, ruby...\n",
       "wen developer                                                       [mysql, apache]\n",
       "wi-fi test engineer               [http, https, wi-fi, wireless, wifi, tcp/ip, d...\n",
       "window platform engineer          [openstack, opensource, open_stack, open_sourc...\n",
       "wireless product manager                      [product_manager, product_management]\n",
       "wireless test engineer            [http, https, wi-fi, wireless, wifi, tcp/ip, d...\n",
       "wordpress developer                            [wordpress, html5, css3, javascript]\n",
       "wordpress engineer                             [wordpress, html5, css3, javascript]\n",
       "workday consultant                [workday, workday_hcm, mandarin, cantonese, ch...\n",
       "workday hcm consultant            [workday, workday_hcm, mandarin, cantonese, ch...\n",
       "world artist                      [2d, 3d, portfolio, games, buildings, terrain,...\n",
       "world design                      [level, levels, world, worlds, design, multipl...\n",
       "world designer                    [level_design, console, pc_games, fps, third_p...\n",
       "worlwide payroll                  [global, international, worlwide, director, he...\n",
       "writer                            [agency, copywriting, copywriter, writer, writ...\n",
       "writing                           [agency, copywriting, copywriter, writer, writ...\n",
       "xbox security                                          [c++, xbox, ps, playstation]\n",
       "xd                                [ux_design, ux, uxd, ued, xd, user_experience_...\n",
       "xml developer                                                      [xml, html, css]\n",
       "yield manager                     [yield, online_media, digital, advertising, br...\n",
       "zbb analysts                         [zerbased_budgeting, zbb, accounting, finance]\n",
       "Name: keyword_name, dtype: object"
      ]
     },
     "execution_count": 22,
     "metadata": {},
     "output_type": "execute_result"
    }
   ],
   "source": [
    "data_must_have = pd.read_csv('mustHaveSkills-2.csv', header = 0, encoding='ISO-8859-1')\n",
    "del data_must_have['job_brief_id']\n",
    "\n",
    "print len(data_must_have)\n",
    "data_must_have = data_must_have.drop_duplicates(subset=['keyword_name', 'job_title'], keep='last')\n",
    "data_must_have = data_must_have[data_must_have[\"job_title\"] != 0]\n",
    "print len(data_must_have)\n",
    "data_must_have['Count'] = data_must_have.groupby('job_title')['keyword_name'].transform(pd.Series.value_counts)\n",
    "data_must_have.drop_duplicates(inplace=True)\n",
    "data_must_have['keyword_name'] = data_must_have['keyword_name'].str.lower()\n",
    "data_must_have['keyword_name'] = data_must_have['keyword_name'].str.replace(' ' ,'_')\n",
    "data_must_have['job_title'] = data_must_have['job_title'].str.lower()\n",
    "# gr_df_keywordname = data_must_have.groupby('keyword_name')['job_title'].apply(list)\n",
    "gr_df_jobtitle = data_must_have.groupby('job_title')['keyword_name'].apply(list)\n",
    "\n",
    "gr_df_jobtitle"
   ]
  },
  {
   "cell_type": "code",
   "execution_count": 28,
   "metadata": {},
   "outputs": [
    {
     "data": {
      "text/plain": [
       "[[u'microsoft_office_sharepoint_server'],\n",
       " [u'asp.net', u'c#', u'.net', u'architect']]"
      ]
     },
     "execution_count": 28,
     "metadata": {},
     "output_type": "execute_result"
    }
   ],
   "source": [
    "must_have_data = []\n",
    "for vector_list in gr_df_jobtitle:\n",
    "    xx = list(set(vector_list))\n",
    "    if xx not in must_have_data:\n",
    "        must_have_data.append(xx)\n",
    "\n",
    "len(must_have_data)\n",
    "must_have_data[0:2]"
   ]
  },
  {
   "cell_type": "code",
   "execution_count": 31,
   "metadata": {},
   "outputs": [
    {
     "data": {
      "text/plain": [
       "id\n",
       "0    [ceaser, caad, design, piping, thermal_power_p...\n",
       "1    [3d_modelling, drawing, design, detail_enginee...\n",
       "2    [salary, international_voice_process, internat...\n",
       "3    [international_voice_process, international_in...\n",
       "4    [m.i.s._costing, marketing_support, budgeting,...\n",
       "5    [.net_developer, asp.net, wcf, agile_methodolo...\n",
       "6    [2008, wcf_web_services, sql_server, .net, .ne...\n",
       "7    [mvvm_pattern, ria, linq, hibernate, soa, wpf,...\n",
       "8    [rest, javascript, entity_framework, mvc, jque...\n",
       "9    [.net_support_analyst, sql_queries, .net, sql,...\n",
       "Name: skill, dtype: object"
      ]
     },
     "execution_count": 31,
     "metadata": {},
     "output_type": "execute_result"
    }
   ],
   "source": [
    "data_naruki = pd.read_csv('naukri_skill_full', header = 0, encoding='ISO-8859-1')\n",
    "# drop duplicate\n",
    "data_naruki.drop_duplicates(subset=['id', 'skill'], keep='last')\n",
    "# lower-case\n",
    "data_naruki['skill'] = data_naruki['skill'].str.lower()\n",
    "data_naruki['skill'] = data_naruki['skill'].str.replace(' ','_')\n",
    "data_naruki_final = data_naruki.groupby('id')['skill'].apply(list)\n",
    "print len(data_naruki_final)\n",
    "data_naruki_final[:10]"
   ]
  },
  {
   "cell_type": "code",
   "execution_count": 69,
   "metadata": {},
   "outputs": [
    {
     "ename": "NameError",
     "evalue": "name 'gr_df_jobtitle' is not defined",
     "output_type": "error",
     "traceback": [
      "\u001b[0;31m---------------------------------------------------------------------------\u001b[0m",
      "\u001b[0;31mNameError\u001b[0m                                 Traceback (most recent call last)",
      "\u001b[0;32m<ipython-input-69-160475f1166c>\u001b[0m in \u001b[0;36m<module>\u001b[0;34m()\u001b[0m\n\u001b[0;32m----> 1\u001b[0;31m \u001b[0mgr_df_jobtitle\u001b[0m\u001b[0;34m\u001b[0m\u001b[0m\n\u001b[0m",
      "\u001b[0;31mNameError\u001b[0m: name 'gr_df_jobtitle' is not defined"
     ]
    }
   ],
   "source": []
  },
  {
   "cell_type": "code",
   "execution_count": 32,
   "metadata": {},
   "outputs": [
    {
     "data": {
      "text/plain": [
       "9773"
      ]
     },
     "execution_count": 32,
     "metadata": {},
     "output_type": "execute_result"
    }
   ],
   "source": [
    "data_train_w2v = data_dice\n",
    "for must_have in gr_df_jobtitle:\n",
    "    if len(must_have) > 2:\n",
    "        if must_have not in data_train_w2v:\n",
    "            data_train_w2v.append(must_have)\n",
    "            \n",
    "len(data_train_w2v)"
   ]
  },
  {
   "cell_type": "code",
   "execution_count": 33,
   "metadata": {},
   "outputs": [
    {
     "data": {
      "text/plain": [
       "107681"
      ]
     },
     "execution_count": 33,
     "metadata": {},
     "output_type": "execute_result"
    }
   ],
   "source": [
    "for skills in data_naruki_final:\n",
    "    if len(skills) > 2 and skills not in data_train_w2v:\n",
    "        data_train_w2v.append(skills)\n",
    "        \n",
    "len(data_train_w2v)"
   ]
  },
  {
   "cell_type": "code",
   "execution_count": 46,
   "metadata": {},
   "outputs": [],
   "source": [
    "with open('./duyet_data_train_w2v', 'wb') as f:\n",
    "    cPickle.dump(data_train_w2v_for_check, f)"
   ]
  },
  {
   "cell_type": "code",
   "execution_count": 2,
   "metadata": {},
   "outputs": [],
   "source": [
    "with open('./duyet_data_train_w2v', 'rd') as f:\n",
    "    data_train_w2v = cPickle.load(f)"
   ]
  },
  {
   "cell_type": "code",
   "execution_count": 48,
   "metadata": {},
   "outputs": [
    {
     "data": {
      "text/plain": [
       "107681"
      ]
     },
     "execution_count": 48,
     "metadata": {},
     "output_type": "execute_result"
    }
   ],
   "source": [
    "len(data_train_w2v)"
   ]
  },
  {
   "cell_type": "code",
   "execution_count": 49,
   "metadata": {
    "collapsed": true
   },
   "outputs": [],
   "source": []
  },
  {
   "cell_type": "code",
   "execution_count": 3,
   "metadata": {},
   "outputs": [
    {
     "name": "stdout",
     "output_type": "stream",
     "text": [
      "107620\n"
     ]
    }
   ],
   "source": [
    "data_train_w2v_for_check = data_train_w2v\n",
    "data_train_w2v = []\n",
    "\n",
    "for i in data_train_w2v_for_check:\n",
    "    vector =[]\n",
    "    for j in i:\n",
    "        # TODO: remove stopword, clean\n",
    "        if isinstance(j, unicode):\n",
    "            if 1 == 1: #  or j not in vector:\n",
    "                vector.append(j)\n",
    "    if i not in data_train_w2v:\n",
    "        data_train_w2v.append(vector)\n",
    "\n",
    "print len(data_train_w2v)"
   ]
  },
  {
   "cell_type": "code",
   "execution_count": 51,
   "metadata": {},
   "outputs": [],
   "source": [
    "with open('./duyet_data_train_w2v', 'wb') as f:\n",
    "    cPickle.dump(data_train_w2v, f)"
   ]
  },
  {
   "cell_type": "code",
   "execution_count": 4,
   "metadata": {},
   "outputs": [
    {
     "name": "stderr",
     "output_type": "stream",
     "text": [
      "2017-03-26 11:03:27,727 : INFO : collecting all words and their counts\n",
      "2017-03-26 11:03:27,916 : INFO : PROGRESS: at sentence #0, processed 0 words, keeping 0 word types\n"
     ]
    },
    {
     "name": "stdout",
     "output_type": "stream",
     "text": [
      "Training model...\n"
     ]
    },
    {
     "name": "stderr",
     "output_type": "stream",
     "text": [
      "2017-03-26 11:03:31,346 : INFO : PROGRESS: at sentence #10000, processed 252829 words, keeping 13698 word types\n",
      "2017-03-26 11:03:32,093 : INFO : PROGRESS: at sentence #20000, processed 339328 words, keeping 26903 word types\n",
      "2017-03-26 11:03:32,525 : INFO : PROGRESS: at sentence #30000, processed 425645 words, keeping 35987 word types\n",
      "2017-03-26 11:03:33,098 : INFO : PROGRESS: at sentence #40000, processed 512177 words, keeping 44819 word types\n",
      "2017-03-26 11:03:33,426 : INFO : PROGRESS: at sentence #50000, processed 601256 words, keeping 53029 word types\n",
      "2017-03-26 11:03:33,736 : INFO : PROGRESS: at sentence #60000, processed 687557 words, keeping 59866 word types\n",
      "2017-03-26 11:03:34,042 : INFO : PROGRESS: at sentence #70000, processed 773345 words, keeping 67205 word types\n",
      "2017-03-26 11:03:34,337 : INFO : PROGRESS: at sentence #80000, processed 857502 words, keeping 74140 word types\n",
      "2017-03-26 11:03:34,773 : INFO : PROGRESS: at sentence #90000, processed 946767 words, keeping 79233 word types\n",
      "2017-03-26 11:03:35,244 : INFO : PROGRESS: at sentence #100000, processed 1035358 words, keeping 85044 word types\n",
      "2017-03-26 11:03:35,628 : INFO : collected 89697 word types from a corpus of 1100915 raw words and 107620 sentences\n",
      "2017-03-26 11:03:35,640 : INFO : Loading a fresh vocabulary\n",
      "2017-03-26 11:03:55,166 : INFO : min_count=1 retains 89697 unique words (100% of original 89697, drops 0)\n",
      "2017-03-26 11:03:55,189 : INFO : min_count=1 leaves 1100915 word corpus (100% of original 1100915, drops 0)\n",
      "2017-03-26 11:03:57,537 : INFO : deleting the raw counts dictionary of 89697 items\n",
      "2017-03-26 11:03:57,884 : INFO : sample=0.001 downsamples 15 most-common words\n",
      "2017-03-26 11:03:57,913 : INFO : downsampling leaves estimated 1086098 word corpus (98.7% of prior 1100915)\n",
      "2017-03-26 11:03:57,958 : INFO : estimated required memory for 89697 words and 300 dimensions: 260121300 bytes\n",
      "2017-03-26 11:04:08,801 : INFO : resetting layer weights\n",
      "2017-03-26 11:04:18,460 : INFO : training model with 12 workers on 89697 vocabulary and 300 features, using sg=1 hs=0 sample=0.001 negative=5 window=10\n",
      "2017-03-26 11:04:18,504 : INFO : expecting 107620 sentences, matching count from corpus used for vocabulary survey\n",
      "2017-03-26 11:04:38,518 : INFO : PROGRESS: at 0.09% examples, 501 words/s, in_qsize 23, out_qsize 0\n",
      "2017-03-26 11:04:49,222 : INFO : PROGRESS: at 0.18% examples, 651 words/s, in_qsize 24, out_qsize 0\n",
      "2017-03-26 11:05:02,809 : INFO : PROGRESS: at 0.27% examples, 676 words/s, in_qsize 21, out_qsize 6\n",
      "2017-03-26 11:05:10,499 : INFO : PROGRESS: at 0.36% examples, 769 words/s, in_qsize 24, out_qsize 6\n",
      "2017-03-26 11:05:22,519 : INFO : PROGRESS: at 0.98% examples, 2007 words/s, in_qsize 24, out_qsize 3\n",
      "2017-03-26 11:05:27,795 : INFO : PROGRESS: at 1.07% examples, 1729 words/s, in_qsize 24, out_qsize 5\n",
      "2017-03-26 11:05:40,224 : INFO : PROGRESS: at 1.62% examples, 2288 words/s, in_qsize 23, out_qsize 1\n",
      "2017-03-26 11:06:06,350 : INFO : PROGRESS: at 1.74% examples, 1799 words/s, in_qsize 17, out_qsize 10\n",
      "2017-03-26 11:06:12,953 : INFO : PROGRESS: at 1.84% examples, 1741 words/s, in_qsize 19, out_qsize 11\n",
      "2017-03-26 11:06:34,859 : INFO : PROGRESS: at 4.41% examples, 2401 words/s, in_qsize 21, out_qsize 3\n",
      "2017-03-26 11:06:43,863 : INFO : PROGRESS: at 4.68% examples, 2321 words/s, in_qsize 21, out_qsize 7\n",
      "2017-03-26 11:06:49,982 : INFO : PROGRESS: at 4.95% examples, 2292 words/s, in_qsize 19, out_qsize 9\n",
      "2017-03-26 11:06:51,452 : INFO : PROGRESS: at 5.23% examples, 2334 words/s, in_qsize 22, out_qsize 9\n",
      "2017-03-26 11:06:58,781 : INFO : PROGRESS: at 5.47% examples, 2289 words/s, in_qsize 24, out_qsize 8\n",
      "2017-03-26 11:07:00,030 : INFO : PROGRESS: at 5.74% examples, 2332 words/s, in_qsize 24, out_qsize 7\n",
      "2017-03-26 11:07:05,238 : INFO : PROGRESS: at 7.86% examples, 2732 words/s, in_qsize 23, out_qsize 0\n",
      "2017-03-26 11:07:10,682 : INFO : PROGRESS: at 8.11% examples, 2703 words/s, in_qsize 19, out_qsize 5\n",
      "2017-03-26 11:07:12,235 : INFO : PROGRESS: at 8.37% examples, 2735 words/s, in_qsize 19, out_qsize 5\n",
      "2017-03-26 11:07:15,236 : INFO : PROGRESS: at 8.63% examples, 2744 words/s, in_qsize 16, out_qsize 7\n",
      "2017-03-26 11:07:20,906 : INFO : PROGRESS: at 8.91% examples, 2713 words/s, in_qsize 12, out_qsize 10\n",
      "2017-03-26 11:07:23,288 : INFO : PROGRESS: at 9.18% examples, 2731 words/s, in_qsize 16, out_qsize 10\n",
      "2017-03-26 11:07:24,488 : INFO : PROGRESS: at 9.47% examples, 2767 words/s, in_qsize 14, out_qsize 11\n",
      "2017-03-26 11:07:29,716 : INFO : PROGRESS: at 9.72% examples, 2743 words/s, in_qsize 24, out_qsize 10\n",
      "2017-03-26 11:07:40,010 : INFO : PROGRESS: at 9.98% examples, 2654 words/s, in_qsize 23, out_qsize 15\n",
      "2017-03-26 11:07:45,414 : INFO : PROGRESS: at 14.50% examples, 3391 words/s, in_qsize 19, out_qsize 0\n",
      "2017-03-26 11:07:53,846 : INFO : PROGRESS: at 14.77% examples, 3344 words/s, in_qsize 19, out_qsize 1\n",
      "2017-03-26 11:07:58,412 : INFO : PROGRESS: at 15.04% examples, 3280 words/s, in_qsize 21, out_qsize 5\n",
      "2017-03-26 11:08:06,240 : INFO : PROGRESS: at 15.32% examples, 3210 words/s, in_qsize 22, out_qsize 7\n",
      "2017-03-26 11:08:08,350 : INFO : PROGRESS: at 15.59% examples, 3224 words/s, in_qsize 23, out_qsize 6\n",
      "2017-03-26 11:08:20,645 : INFO : PROGRESS: at 15.86% examples, 3100 words/s, in_qsize 23, out_qsize 9\n",
      "2017-03-26 11:08:24,511 : INFO : PROGRESS: at 18.89% examples, 3493 words/s, in_qsize 22, out_qsize 0\n",
      "2017-03-26 11:08:32,396 : INFO : PROGRESS: at 19.16% examples, 3422 words/s, in_qsize 24, out_qsize 5\n",
      "2017-03-26 11:08:39,227 : INFO : PROGRESS: at 19.43% examples, 3399 words/s, in_qsize 24, out_qsize 6\n",
      "2017-03-26 11:08:48,346 : INFO : PROGRESS: at 19.67% examples, 3292 words/s, in_qsize 24, out_qsize 8\n",
      "2017-03-26 11:08:58,412 : INFO : PROGRESS: at 19.94% examples, 3209 words/s, in_qsize 24, out_qsize 11\n",
      "2017-03-26 11:09:06,931 : INFO : PROGRESS: at 20.19% examples, 3148 words/s, in_qsize 24, out_qsize 12\n",
      "2017-03-26 11:09:10,815 : INFO : PROGRESS: at 23.87% examples, 3576 words/s, in_qsize 24, out_qsize 0\n",
      "2017-03-26 11:09:13,757 : INFO : PROGRESS: at 24.39% examples, 3607 words/s, in_qsize 23, out_qsize 0\n",
      "2017-03-26 11:09:29,184 : INFO : PROGRESS: at 24.69% examples, 3460 words/s, in_qsize 19, out_qsize 5\n",
      "2017-03-26 11:09:35,063 : INFO : PROGRESS: at 24.96% examples, 3427 words/s, in_qsize 24, out_qsize 4\n",
      "2017-03-26 11:09:39,579 : INFO : PROGRESS: at 25.04% examples, 3409 words/s, in_qsize 24, out_qsize 6\n",
      "2017-03-26 11:09:51,735 : INFO : PROGRESS: at 25.69% examples, 3534 words/s, in_qsize 23, out_qsize 0\n",
      "2017-03-26 11:10:03,702 : INFO : PROGRESS: at 25.79% examples, 3402 words/s, in_qsize 23, out_qsize 0\n",
      "2017-03-26 11:10:20,985 : INFO : PROGRESS: at 25.87% examples, 3287 words/s, in_qsize 20, out_qsize 6\n",
      "2017-03-26 11:10:21,407 : INFO : PROGRESS: at 25.96% examples, 3291 words/s, in_qsize 24, out_qsize 9\n",
      "2017-03-26 11:10:24,399 : INFO : PROGRESS: at 26.90% examples, 3536 words/s, in_qsize 24, out_qsize 0\n",
      "2017-03-26 11:10:35,982 : INFO : PROGRESS: at 27.01% examples, 3453 words/s, in_qsize 21, out_qsize 3\n",
      "2017-03-26 11:10:38,729 : INFO : PROGRESS: at 27.09% examples, 3454 words/s, in_qsize 20, out_qsize 3\n",
      "2017-03-26 11:10:56,821 : INFO : PROGRESS: at 27.37% examples, 3361 words/s, in_qsize 22, out_qsize 5\n",
      "2017-03-26 11:11:23,501 : INFO : PROGRESS: at 27.58% examples, 3174 words/s, in_qsize 24, out_qsize 12\n",
      "2017-03-26 11:11:28,553 : INFO : PROGRESS: at 27.65% examples, 3122 words/s, in_qsize 22, out_qsize 14\n",
      "2017-03-26 11:11:34,880 : INFO : PROGRESS: at 31.99% examples, 3461 words/s, in_qsize 23, out_qsize 1\n",
      "2017-03-26 11:11:45,235 : INFO : PROGRESS: at 32.54% examples, 3433 words/s, in_qsize 23, out_qsize 2\n",
      "2017-03-26 11:11:50,622 : INFO : PROGRESS: at 32.82% examples, 3406 words/s, in_qsize 20, out_qsize 5\n",
      "2017-03-26 11:11:59,447 : INFO : PROGRESS: at 33.08% examples, 3362 words/s, in_qsize 21, out_qsize 4\n",
      "2017-03-26 11:12:05,178 : INFO : PROGRESS: at 33.35% examples, 3342 words/s, in_qsize 24, out_qsize 7\n",
      "2017-03-26 11:12:10,609 : INFO : PROGRESS: at 33.61% examples, 3324 words/s, in_qsize 24, out_qsize 7\n",
      "2017-03-26 11:12:12,300 : INFO : PROGRESS: at 33.90% examples, 3333 words/s, in_qsize 22, out_qsize 9\n",
      "2017-03-26 11:12:16,390 : INFO : PROGRESS: at 34.17% examples, 3325 words/s, in_qsize 24, out_qsize 9\n",
      "2017-03-26 11:12:37,247 : INFO : PROGRESS: at 36.73% examples, 3451 words/s, in_qsize 22, out_qsize 3\n",
      "2017-03-26 11:12:41,782 : INFO : PROGRESS: at 36.99% examples, 3373 words/s, in_qsize 18, out_qsize 10\n",
      "2017-03-26 11:12:56,853 : INFO : PROGRESS: at 37.27% examples, 3293 words/s, in_qsize 19, out_qsize 9\n",
      "2017-03-26 11:13:11,543 : INFO : PROGRESS: at 41.37% examples, 3479 words/s, in_qsize 14, out_qsize 1\n",
      "2017-03-26 11:13:16,119 : INFO : PROGRESS: at 41.65% examples, 3468 words/s, in_qsize 13, out_qsize 4\n",
      "2017-03-26 11:13:20,514 : INFO : PROGRESS: at 41.94% examples, 3458 words/s, in_qsize 12, out_qsize 5\n",
      "2017-03-26 11:13:23,986 : INFO : PROGRESS: at 42.21% examples, 3454 words/s, in_qsize 21, out_qsize 5\n",
      "2017-03-26 11:13:25,983 : INFO : PROGRESS: at 42.49% examples, 3460 words/s, in_qsize 23, out_qsize 5\n",
      "2017-03-26 11:13:28,377 : INFO : PROGRESS: at 44.09% examples, 3552 words/s, in_qsize 23, out_qsize 0\n",
      "2017-03-26 11:13:33,823 : INFO : PROGRESS: at 44.34% examples, 3535 words/s, in_qsize 24, out_qsize 4\n",
      "2017-03-26 11:13:46,121 : INFO : PROGRESS: at 44.61% examples, 3475 words/s, in_qsize 24, out_qsize 5\n",
      "2017-03-26 11:13:50,728 : INFO : PROGRESS: at 44.87% examples, 3465 words/s, in_qsize 24, out_qsize 7\n",
      "2017-03-26 11:13:52,609 : INFO : PROGRESS: at 46.46% examples, 3556 words/s, in_qsize 24, out_qsize 1\n",
      "2017-03-26 11:13:57,631 : INFO : PROGRESS: at 46.71% examples, 3542 words/s, in_qsize 24, out_qsize 1\n",
      "2017-03-26 11:14:02,166 : INFO : PROGRESS: at 46.96% examples, 3531 words/s, in_qsize 24, out_qsize 0\n",
      "2017-03-26 11:14:12,080 : INFO : PROGRESS: at 47.54% examples, 3505 words/s, in_qsize 22, out_qsize 1\n",
      "2017-03-26 11:14:25,307 : INFO : PROGRESS: at 47.79% examples, 3445 words/s, in_qsize 22, out_qsize 6\n",
      "2017-03-26 11:14:29,599 : INFO : PROGRESS: at 48.07% examples, 3437 words/s, in_qsize 22, out_qsize 8\n",
      "2017-03-26 11:14:36,754 : INFO : PROGRESS: at 48.34% examples, 3413 words/s, in_qsize 24, out_qsize 8\n",
      "2017-03-26 11:14:48,731 : INFO : PROGRESS: at 50.23% examples, 3490 words/s, in_qsize 24, out_qsize 0\n",
      "2017-03-26 11:14:50,251 : INFO : PROGRESS: at 50.32% examples, 3496 words/s, in_qsize 24, out_qsize 0\n",
      "2017-03-26 11:15:06,398 : INFO : PROGRESS: at 50.41% examples, 3426 words/s, in_qsize 21, out_qsize 2\n",
      "2017-03-26 11:15:22,192 : INFO : PROGRESS: at 50.50% examples, 3358 words/s, in_qsize 17, out_qsize 10\n",
      "2017-03-26 11:15:24,434 : INFO : PROGRESS: at 50.59% examples, 3362 words/s, in_qsize 20, out_qsize 9\n",
      "2017-03-26 11:15:32,814 : INFO : PROGRESS: at 50.68% examples, 3335 words/s, in_qsize 24, out_qsize 8\n",
      "2017-03-26 11:15:41,195 : INFO : PROGRESS: at 50.77% examples, 3308 words/s, in_qsize 24, out_qsize 12\n",
      "2017-03-26 11:16:03,110 : INFO : PROGRESS: at 50.86% examples, 3220 words/s, in_qsize 19, out_qsize 18\n",
      "2017-03-26 11:16:16,117 : INFO : PROGRESS: at 50.95% examples, 3176 words/s, in_qsize 24, out_qsize 21\n",
      "2017-03-26 11:16:21,053 : INFO : PROGRESS: at 51.04% examples, 3167 words/s, in_qsize 24, out_qsize 24\n",
      "2017-03-26 11:16:25,270 : INFO : PROGRESS: at 51.12% examples, 3163 words/s, in_qsize 23, out_qsize 24\n",
      "2017-03-26 11:16:28,468 : INFO : PROGRESS: at 51.21% examples, 3162 words/s, in_qsize 22, out_qsize 27\n",
      "2017-03-26 11:16:38,035 : INFO : PROGRESS: at 51.29% examples, 3135 words/s, in_qsize 20, out_qsize 28\n",
      "2017-03-26 11:16:40,749 : INFO : PROGRESS: at 51.38% examples, 3137 words/s, in_qsize 24, out_qsize 29\n",
      "2017-03-26 11:16:49,438 : INFO : PROGRESS: at 51.49% examples, 3114 words/s, in_qsize 23, out_qsize 30\n",
      "2017-03-26 11:17:08,699 : INFO : PROGRESS: at 51.60% examples, 3055 words/s, in_qsize 19, out_qsize 35\n",
      "2017-03-26 11:17:15,683 : INFO : PROGRESS: at 51.70% examples, 3034 words/s, in_qsize 24, out_qsize 35\n",
      "2017-03-26 11:17:19,590 : INFO : PROGRESS: at 51.79% examples, 3032 words/s, in_qsize 24, out_qsize 35\n",
      "2017-03-26 11:17:23,421 : INFO : PROGRESS: at 51.88% examples, 3030 words/s, in_qsize 24, out_qsize 35\n",
      "2017-03-26 11:17:26,118 : INFO : PROGRESS: at 51.99% examples, 3032 words/s, in_qsize 23, out_qsize 35\n",
      "2017-03-26 11:17:31,912 : INFO : PROGRESS: at 52.07% examples, 3031 words/s, in_qsize 23, out_qsize 36\n",
      "2017-03-26 11:17:32,604 : INFO : PROGRESS: at 52.33% examples, 3032 words/s, in_qsize 24, out_qsize 35\n",
      "2017-03-26 11:17:36,923 : INFO : PROGRESS: at 52.61% examples, 3028 words/s, in_qsize 24, out_qsize 35\n",
      "2017-03-26 11:17:44,268 : INFO : PROGRESS: at 63.59% examples, 3548 words/s, in_qsize 17, out_qsize 1\n",
      "2017-03-26 11:17:45,741 : INFO : PROGRESS: at 63.88% examples, 3531 words/s, in_qsize 16, out_qsize 1\n",
      "2017-03-26 11:17:47,001 : INFO : PROGRESS: at 64.15% examples, 3537 words/s, in_qsize 16, out_qsize 0\n",
      "2017-03-26 11:17:49,592 : INFO : PROGRESS: at 64.40% examples, 3538 words/s, in_qsize 15, out_qsize 0\n",
      "2017-03-26 11:17:51,233 : INFO : PROGRESS: at 64.67% examples, 3543 words/s, in_qsize 14, out_qsize 1\n",
      "2017-03-26 11:17:52,430 : INFO : PROGRESS: at 64.94% examples, 3550 words/s, in_qsize 14, out_qsize 1\n",
      "2017-03-26 11:18:00,946 : INFO : PROGRESS: at 65.51% examples, 3537 words/s, in_qsize 24, out_qsize 0\n",
      "2017-03-26 11:18:10,087 : INFO : PROGRESS: at 65.78% examples, 3510 words/s, in_qsize 23, out_qsize 1\n",
      "2017-03-26 11:18:17,093 : INFO : PROGRESS: at 66.06% examples, 3498 words/s, in_qsize 19, out_qsize 7\n",
      "2017-03-26 11:18:20,661 : INFO : PROGRESS: at 66.34% examples, 3490 words/s, in_qsize 23, out_qsize 7\n",
      "2017-03-26 11:18:23,134 : INFO : PROGRESS: at 68.53% examples, 3573 words/s, in_qsize 24, out_qsize 0\n",
      "2017-03-26 11:18:27,803 : INFO : PROGRESS: at 68.79% examples, 3565 words/s, in_qsize 21, out_qsize 1\n",
      "2017-03-26 11:18:37,954 : INFO : PROGRESS: at 69.33% examples, 3545 words/s, in_qsize 24, out_qsize 0\n",
      "2017-03-26 11:18:44,099 : INFO : PROGRESS: at 69.60% examples, 3532 words/s, in_qsize 21, out_qsize 2\n",
      "2017-03-26 11:18:54,273 : INFO : PROGRESS: at 69.84% examples, 3506 words/s, in_qsize 20, out_qsize 7\n",
      "2017-03-26 11:18:55,724 : INFO : PROGRESS: at 70.10% examples, 3507 words/s, in_qsize 24, out_qsize 7\n",
      "2017-03-26 11:19:02,184 : INFO : PROGRESS: at 72.18% examples, 3570 words/s, in_qsize 23, out_qsize 0\n",
      "2017-03-26 11:19:06,805 : INFO : PROGRESS: at 72.46% examples, 3563 words/s, in_qsize 21, out_qsize 3\n",
      "2017-03-26 11:19:09,032 : INFO : PROGRESS: at 72.71% examples, 3565 words/s, in_qsize 21, out_qsize 2\n",
      "2017-03-26 11:19:15,591 : INFO : PROGRESS: at 73.57% examples, 3572 words/s, in_qsize 23, out_qsize 0\n",
      "2017-03-26 11:19:19,564 : INFO : PROGRESS: at 73.82% examples, 3567 words/s, in_qsize 24, out_qsize 1\n",
      "2017-03-26 11:19:32,457 : INFO : PROGRESS: at 74.07% examples, 3527 words/s, in_qsize 21, out_qsize 5\n",
      "2017-03-26 11:19:43,820 : INFO : PROGRESS: at 74.26% examples, 3495 words/s, in_qsize 23, out_qsize 6\n",
      "2017-03-26 11:19:55,369 : INFO : PROGRESS: at 74.34% examples, 3468 words/s, in_qsize 22, out_qsize 9\n",
      "2017-03-26 11:20:01,060 : INFO : PROGRESS: at 74.59% examples, 3452 words/s, in_qsize 23, out_qsize 12\n",
      "2017-03-26 11:20:07,116 : INFO : PROGRESS: at 74.85% examples, 3440 words/s, in_qsize 22, out_qsize 13\n",
      "2017-03-26 11:20:08,240 : INFO : PROGRESS: at 75.40% examples, 3478 words/s, in_qsize 24, out_qsize 10\n",
      "2017-03-26 11:20:12,074 : INFO : PROGRESS: at 75.48% examples, 3474 words/s, in_qsize 24, out_qsize 9\n",
      "2017-03-26 11:20:15,929 : INFO : PROGRESS: at 76.37% examples, 3564 words/s, in_qsize 24, out_qsize 0\n",
      "2017-03-26 11:20:40,638 : INFO : PROGRESS: at 76.45% examples, 3485 words/s, in_qsize 20, out_qsize 5\n",
      "2017-03-26 11:20:46,883 : INFO : PROGRESS: at 76.55% examples, 3473 words/s, in_qsize 17, out_qsize 9\n",
      "2017-03-26 11:20:48,399 : INFO : PROGRESS: at 77.88% examples, 3567 words/s, in_qsize 16, out_qsize 0\n",
      "2017-03-26 11:20:54,225 : INFO : PROGRESS: at 78.16% examples, 3556 words/s, in_qsize 15, out_qsize 1\n",
      "2017-03-26 11:20:59,234 : INFO : PROGRESS: at 78.43% examples, 3548 words/s, in_qsize 23, out_qsize 4\n",
      "2017-03-26 11:21:04,208 : INFO : PROGRESS: at 78.69% examples, 3540 words/s, in_qsize 23, out_qsize 5\n",
      "2017-03-26 11:21:07,034 : INFO : PROGRESS: at 80.31% examples, 3589 words/s, in_qsize 24, out_qsize 0\n",
      "2017-03-26 11:21:15,832 : INFO : PROGRESS: at 80.57% examples, 3567 words/s, in_qsize 24, out_qsize 0\n",
      "2017-03-26 11:21:23,006 : INFO : PROGRESS: at 81.91% examples, 3591 words/s, in_qsize 23, out_qsize 0\n",
      "2017-03-26 11:21:30,445 : INFO : PROGRESS: at 82.17% examples, 3580 words/s, in_qsize 24, out_qsize 5\n",
      "2017-03-26 11:21:33,897 : INFO : PROGRESS: at 82.43% examples, 3572 words/s, in_qsize 24, out_qsize 5\n",
      "2017-03-26 11:21:43,221 : INFO : PROGRESS: at 82.70% examples, 3550 words/s, in_qsize 22, out_qsize 10\n",
      "2017-03-26 11:21:49,308 : INFO : PROGRESS: at 82.96% examples, 3538 words/s, in_qsize 24, out_qsize 9\n",
      "2017-03-26 11:21:52,486 : INFO : PROGRESS: at 83.26% examples, 3537 words/s, in_qsize 24, out_qsize 10\n",
      "2017-03-26 11:21:57,534 : INFO : PROGRESS: at 83.53% examples, 3530 words/s, in_qsize 23, out_qsize 10\n",
      "2017-03-26 11:22:09,694 : INFO : PROGRESS: at 83.81% examples, 3499 words/s, in_qsize 23, out_qsize 17\n",
      "2017-03-26 11:22:17,884 : INFO : PROGRESS: at 84.06% examples, 3481 words/s, in_qsize 23, out_qsize 18\n",
      "2017-03-26 11:22:22,193 : INFO : PROGRESS: at 89.63% examples, 3658 words/s, in_qsize 21, out_qsize 0\n",
      "2017-03-26 11:22:38,532 : INFO : PROGRESS: at 89.91% examples, 3619 words/s, in_qsize 15, out_qsize 9\n",
      "2017-03-26 11:22:44,175 : INFO : PROGRESS: at 90.17% examples, 3603 words/s, in_qsize 24, out_qsize 11\n",
      "2017-03-26 11:22:46,135 : INFO : PROGRESS: at 90.45% examples, 3606 words/s, in_qsize 24, out_qsize 10\n",
      "2017-03-26 11:23:00,549 : INFO : PROGRESS: at 90.73% examples, 3568 words/s, in_qsize 20, out_qsize 16\n",
      "2017-03-26 11:23:02,504 : INFO : PROGRESS: at 91.00% examples, 3571 words/s, in_qsize 18, out_qsize 16\n",
      "2017-03-26 11:23:05,013 : INFO : PROGRESS: at 91.26% examples, 3571 words/s, in_qsize 17, out_qsize 16\n",
      "2017-03-26 11:23:08,335 : INFO : PROGRESS: at 91.53% examples, 3570 words/s, in_qsize 15, out_qsize 17\n",
      "2017-03-26 11:23:10,066 : INFO : PROGRESS: at 96.35% examples, 3720 words/s, in_qsize 13, out_qsize 1\n",
      "2017-03-26 11:23:11,495 : INFO : PROGRESS: at 96.62% examples, 3725 words/s, in_qsize 12, out_qsize 1\n",
      "2017-03-26 11:23:17,020 : INFO : PROGRESS: at 96.88% examples, 3715 words/s, in_qsize 11, out_qsize 2\n",
      "2017-03-26 11:23:22,560 : INFO : PROGRESS: at 97.15% examples, 3706 words/s, in_qsize 8, out_qsize 7\n",
      "2017-03-26 11:23:22,791 : INFO : worker thread finished; awaiting finish of 11 more threads\n",
      "2017-03-26 11:23:22,963 : INFO : worker thread finished; awaiting finish of 10 more threads\n",
      "2017-03-26 11:23:23,012 : INFO : worker thread finished; awaiting finish of 9 more threads\n",
      "2017-03-26 11:23:23,042 : INFO : worker thread finished; awaiting finish of 8 more threads\n",
      "2017-03-26 11:23:23,209 : INFO : worker thread finished; awaiting finish of 7 more threads\n",
      "2017-03-26 11:23:23,693 : INFO : PROGRESS: at 98.47% examples, 3745 words/s, in_qsize 6, out_qsize 1\n",
      "2017-03-26 11:23:23,867 : INFO : worker thread finished; awaiting finish of 6 more threads\n",
      "2017-03-26 11:23:27,078 : INFO : PROGRESS: at 98.76% examples, 3742 words/s, in_qsize 5, out_qsize 1\n",
      "2017-03-26 11:23:27,574 : INFO : worker thread finished; awaiting finish of 5 more threads\n",
      "2017-03-26 11:23:29,483 : INFO : PROGRESS: at 98.96% examples, 3741 words/s, in_qsize 4, out_qsize 1\n",
      "2017-03-26 11:23:29,819 : INFO : worker thread finished; awaiting finish of 4 more threads\n",
      "2017-03-26 11:23:32,119 : INFO : PROGRESS: at 99.20% examples, 3741 words/s, in_qsize 3, out_qsize 1\n",
      "2017-03-26 11:23:32,286 : INFO : worker thread finished; awaiting finish of 3 more threads\n",
      "2017-03-26 11:23:32,902 : INFO : worker thread finished; awaiting finish of 2 more threads\n",
      "2017-03-26 11:23:33,434 : INFO : PROGRESS: at 99.74% examples, 3754 words/s, in_qsize 1, out_qsize 1\n",
      "2017-03-26 11:23:33,468 : INFO : worker thread finished; awaiting finish of 1 more threads\n",
      "2017-03-26 11:23:33,472 : INFO : worker thread finished; awaiting finish of 0 more threads\n",
      "2017-03-26 11:23:33,473 : INFO : training on 4403660 raw words (4344609 effective words) took 1154.8s, 3762 effective words/s\n",
      "2017-03-26 11:23:33,495 : INFO : precomputing L2-norms of word weight vectors\n"
     ]
    }
   ],
   "source": [
    "import multiprocessing\n",
    "\n",
    "logging.basicConfig(format='%(asctime)s : %(levelname)s : %(message)s', level=logging.INFO)    \n",
    "\n",
    "print (\"Training model...\")\n",
    "model = word2vec.Word2Vec(data_train_w2v, \n",
    "          workers=multiprocessing.cpu_count(),  # Number of threads to run in parallel\n",
    "          size=300, \n",
    "          min_count=1, \n",
    "          window=10, \n",
    "          sample = 1e-3,  # Downsample setting for frequent words\n",
    "          iter=4,\n",
    "          sg = 1\n",
    "    )\n",
    "\n",
    "model.init_sims(replace=True)\n"
   ]
  },
  {
   "cell_type": "code",
   "execution_count": 5,
   "metadata": {},
   "outputs": [
    {
     "name": "stderr",
     "output_type": "stream",
     "text": [
      "2017-03-26 11:23:37,727 : INFO : storing 89697x300 projection weights into duyet_word2vec_skill.bin\n"
     ]
    }
   ],
   "source": [
    "model.wv.save_word2vec_format('duyet_word2vec_skill.bin', binary=True)"
   ]
  },
  {
   "cell_type": "markdown",
   "metadata": {},
   "source": [
    "# Testing"
   ]
  },
  {
   "cell_type": "code",
   "execution_count": 6,
   "metadata": {},
   "outputs": [
    {
     "data": {
      "text/plain": [
       "[(u'data_science', 0.9422160387039185),\n",
       " (u'data_scientist', 0.9219090938568115),\n",
       " (u'artificial_intelligence', 0.9210098385810852),\n",
       " (u'natural_language_processing', 0.917766809463501),\n",
       " (u'nlp', 0.916205108165741),\n",
       " (u'neural_networks', 0.9032108783721924),\n",
       " (u'mapreduce', 0.9024723768234253),\n",
       " (u'algorithm_development', 0.9023774266242981),\n",
       " (u'weka', 0.9023661017417908),\n",
       " (u'text_mining', 0.9008974432945251)]"
      ]
     },
     "execution_count": 6,
     "metadata": {},
     "output_type": "execute_result"
    }
   ],
   "source": [
    "model.similar_by_word('machine_learning')"
   ]
  },
  {
   "cell_type": "code",
   "execution_count": 7,
   "metadata": {},
   "outputs": [
    {
     "data": {
      "text/plain": [
       "[(u'ruby', 0.8522108197212219),\n",
       " (u'bash', 0.8046368956565857),\n",
       " (u'perl', 0.8016030192375183),\n",
       " (u'devops_automation_tools', 0.7825772166252136),\n",
       " (u'site_reliability', 0.7819802761077881),\n",
       " (u'open_source', 0.7797426581382751),\n",
       " (u'computer_programming', 0.7795082330703735),\n",
       " (u'scripting', 0.7788758277893066),\n",
       " (u'python_or_bash_or_ruby_or_perl)', 0.7778626680374146),\n",
       " (u'mac_osx', 0.7752783298492432)]"
      ]
     },
     "execution_count": 7,
     "metadata": {},
     "output_type": "execute_result"
    }
   ],
   "source": [
    "model.similar_by_word('python')"
   ]
  },
  {
   "cell_type": "code",
   "execution_count": 8,
   "metadata": {},
   "outputs": [
    {
     "data": {
      "text/plain": [
       "[(u'html5', 0.8974307179450989),\n",
       " (u'ui_development', 0.8635860681533813),\n",
       " (u'bootstrap', 0.8595981597900391),\n",
       " (u'css3', 0.8528745770454407),\n",
       " (u'html_5', 0.8408917784690857),\n",
       " (u'web_2.0', 0.8406175374984741),\n",
       " (u'xhtml', 0.8400400876998901),\n",
       " (u'ajax', 0.8394852876663208),\n",
       " (u'web_development', 0.8363163471221924),\n",
       " (u'angular', 0.8361284136772156)]"
      ]
     },
     "execution_count": 8,
     "metadata": {},
     "output_type": "execute_result"
    }
   ],
   "source": [
    "model.similar_by_word('css')"
   ]
  },
  {
   "cell_type": "code",
   "execution_count": 9,
   "metadata": {},
   "outputs": [
    {
     "data": {
      "text/plain": [
       "[(u'ajax', 0.8565713763237),\n",
       " (u'xhtml', 0.8516340255737305),\n",
       " (u'web_development', 0.8487673997879028),\n",
       " (u'html5', 0.8457298278808594),\n",
       " (u'css3', 0.8286351561546326),\n",
       " (u'html_5', 0.8208118677139282),\n",
       " (u'java_script', 0.8198404908180237),\n",
       " (u'dhtml', 0.8177890777587891),\n",
       " (u'css', 0.8029626607894897),\n",
       " (u'javascript', 0.8021034598350525)]"
      ]
     },
     "execution_count": 9,
     "metadata": {},
     "output_type": "execute_result"
    }
   ],
   "source": [
    "model.similar_by_word('html')"
   ]
  },
  {
   "cell_type": "code",
   "execution_count": 10,
   "metadata": {},
   "outputs": [
    {
     "data": {
      "text/plain": [
       "[(u'css3', 0.9599962830543518),\n",
       " (u'ui_development', 0.9453151822090149),\n",
       " (u'ui_developer', 0.9411906599998474),\n",
       " (u'bootstrap', 0.9401106834411621),\n",
       " (u'angular', 0.9390008449554443),\n",
       " (u'front-end', 0.9382939338684082),\n",
       " (u'frontend', 0.9346851110458374),\n",
       " (u'jquerry', 0.9328276515007019),\n",
       " (u'user_interface_development', 0.9299989938735962),\n",
       " (u'object_oriented_javascript', 0.9298042058944702)]"
      ]
     },
     "execution_count": 10,
     "metadata": {},
     "output_type": "execute_result"
    }
   ],
   "source": [
    "model.similar_by_word('html5')"
   ]
  },
  {
   "cell_type": "code",
   "execution_count": 11,
   "metadata": {},
   "outputs": [
    {
     "data": {
      "text/plain": [
       "[(u'angularjs', 0.9698102474212646),\n",
       " (u'angular', 0.9694699048995972),\n",
       " (u'backbone.js', 0.9692836999893188),\n",
       " (u'angular.js', 0.9609279632568359),\n",
       " (u'angular_js', 0.9575139284133911),\n",
       " (u'front_-_end_developer', 0.9525660276412964),\n",
       " (u'front_end_developer', 0.9521020650863647),\n",
       " (u'sass', 0.9519370198249817),\n",
       " (u'oojs', 0.9508299827575684),\n",
       " (u'backbonejs', 0.9491092562675476)]"
      ]
     },
     "execution_count": 11,
     "metadata": {},
     "output_type": "execute_result"
    }
   ],
   "source": [
    "model.similar_by_word('bootstrap')"
   ]
  },
  {
   "cell_type": "code",
   "execution_count": 12,
   "metadata": {},
   "outputs": [
    {
     "data": {
      "text/plain": [
       "[(u'ajax', 0.8866481781005859),\n",
       " (u'html5', 0.8692954182624817),\n",
       " (u'css3', 0.8681623935699463),\n",
       " (u'web_development', 0.8675326704978943),\n",
       " (u'java_script', 0.8644356727600098),\n",
       " (u'html_5', 0.853226363658905),\n",
       " (u'bootstrap', 0.852524995803833),\n",
       " (u'xhtml', 0.8516951203346252),\n",
       " (u'dojo', 0.8443065285682678),\n",
       " (u'jquery', 0.843605637550354)]"
      ]
     },
     "execution_count": 12,
     "metadata": {},
     "output_type": "execute_result"
    }
   ],
   "source": [
    "model.similar_by_word('javascript')"
   ]
  },
  {
   "cell_type": "code",
   "execution_count": 13,
   "metadata": {},
   "outputs": [
    {
     "data": {
      "text/plain": [
       "[(u'node_js', 0.9847288727760315),\n",
       " (u'node.js', 0.9839949607849121),\n",
       " (u'mean_stack', 0.9811791181564331),\n",
       " (u'reactjs', 0.980007529258728),\n",
       " (u'react.js', 0.9778978824615479),\n",
       " (u'backbonejs', 0.9751937985420227),\n",
       " (u'expressjs', 0.9747955799102783),\n",
       " (u'grunt', 0.9732896089553833),\n",
       " (u'node_java_script', 0.9731259346008301),\n",
       " (u'knockoutjs', 0.9729543924331665)]"
      ]
     },
     "execution_count": 13,
     "metadata": {},
     "output_type": "execute_result"
    }
   ],
   "source": [
    "model.similar_by_word('nodejs')"
   ]
  },
  {
   "cell_type": "code",
   "execution_count": 14,
   "metadata": {},
   "outputs": [
    {
     "data": {
      "text/plain": [
       "[(u'nodejs', 0.9839949607849121),\n",
       " (u'angular.js', 0.9655287265777588),\n",
       " (u'react.js', 0.9631706476211548),\n",
       " (u'node_js', 0.9619911909103394),\n",
       " (u'mean_stack', 0.9599627256393433),\n",
       " (u'ember.js', 0.9583311676979065),\n",
       " (u'angularjs', 0.9580939412117004),\n",
       " (u'java-script', 0.9555432200431824),\n",
       " (u'backbone.js', 0.9541488885879517),\n",
       " (u'reactjs', 0.954147219657898)]"
      ]
     },
     "execution_count": 14,
     "metadata": {},
     "output_type": "execute_result"
    }
   ],
   "source": [
    "model.similar_by_word('node.js')"
   ]
  },
  {
   "cell_type": "code",
   "execution_count": 15,
   "metadata": {},
   "outputs": [
    {
     "data": {
      "text/plain": [
       "[(u'drupal', 0.9372311234474182),\n",
       " (u'wordpress', 0.9317398071289062),\n",
       " (u'core_php', 0.928536593914032),\n",
       " (u'zend', 0.9279359579086304),\n",
       " (u'cakephp', 0.9255720973014832),\n",
       " (u'lamp', 0.925187885761261),\n",
       " (u'joomla', 0.924292266368866),\n",
       " (u'magento', 0.9184141159057617),\n",
       " (u'codeigniter', 0.9148786067962646),\n",
       " (u'oscommerce', 0.910626232624054)]"
      ]
     },
     "execution_count": 15,
     "metadata": {},
     "output_type": "execute_result"
    }
   ],
   "source": [
    "model.similar_by_word('php')"
   ]
  },
  {
   "cell_type": "code",
   "execution_count": 16,
   "metadata": {},
   "outputs": [
    {
     "data": {
      "text/plain": [
       "[(u'c', 0.9312055110931396),\n",
       " (u'programming', 0.8374342918395996),\n",
       " (u'languages', 0.8336395025253296),\n",
       " (u'embedded_linux', 0.8176031112670898),\n",
       " (u'rtos', 0.8171031475067139),\n",
       " (u'c++_programming', 0.8134716153144836),\n",
       " (u'stl', 0.8129345774650574),\n",
       " (u'boost', 0.8118593096733093),\n",
       " (u'vc++', 0.8098419308662415),\n",
       " (u'embedded_systems', 0.8087258338928223)]"
      ]
     },
     "execution_count": 16,
     "metadata": {},
     "output_type": "execute_result"
    }
   ],
   "source": [
    "model.similar_by_word('c++')"
   ]
  },
  {
   "cell_type": "code",
   "execution_count": 17,
   "metadata": {},
   "outputs": [
    {
     "data": {
      "text/plain": [
       "[(u'websites', 0.9125840663909912),\n",
       " (u'interactive', 0.8940144777297974),\n",
       " (u'html_and_css', 0.8812004327774048),\n",
       " (u'producer', 0.8783373236656189),\n",
       " (u'website_designing', 0.8759322166442871),\n",
       " (u'html_xhtml', 0.8700681328773499),\n",
       " (u'web_designer', 0.8636655211448669),\n",
       " (u'dream_weaver', 0.8634325265884399),\n",
       " (u'visual', 0.8630934953689575),\n",
       " (u'search_engine_ranking', 0.8610385656356812)]"
      ]
     },
     "execution_count": 17,
     "metadata": {},
     "output_type": "execute_result"
    }
   ],
   "source": [
    "model.similar_by_word('web')"
   ]
  },
  {
   "cell_type": "code",
   "execution_count": 18,
   "metadata": {},
   "outputs": [
    {
     "data": {
      "text/plain": [
       "[(u'ror', 0.9833118319511414),\n",
       " (u'jruby', 0.9804388284683228),\n",
       " (u'ruby_on_rails', 0.980139970779419),\n",
       " (u'opensource', 0.9721523523330688),\n",
       " (u'go', 0.9704596996307373),\n",
       " (u'pyramid', 0.968437135219574),\n",
       " (u'ruby_rails_developer', 0.9672976732254028),\n",
       " (u'lamp_stack', 0.9660986065864563),\n",
       " (u'content_delivery_network', 0.9656563997268677),\n",
       " (u'twisted', 0.9646377563476562)]"
      ]
     },
     "execution_count": 18,
     "metadata": {},
     "output_type": "execute_result"
    }
   ],
   "source": [
    "model.similar_by_word('rails')"
   ]
  },
  {
   "cell_type": "code",
   "execution_count": 19,
   "metadata": {},
   "outputs": [
    {
     "data": {
      "text/plain": [
       "[(u'bash', 0.9099234938621521),\n",
       " (u'ruby_on_rails', 0.9087743759155273),\n",
       " (u'rails', 0.9037313461303711),\n",
       " (u'technoology_sales', 0.9015157222747803),\n",
       " (u'ror', 0.8960175514221191),\n",
       " (u'leading_teams', 0.8955328464508057),\n",
       " (u'jruby', 0.8951069712638855),\n",
       " (u'shell', 0.894086480140686),\n",
       " (u'django', 0.890491783618927),\n",
       " (u'site_reliability', 0.8903191089630127)]"
      ]
     },
     "execution_count": 19,
     "metadata": {},
     "output_type": "execute_result"
    }
   ],
   "source": [
    "model.similar_by_word('ruby')"
   ]
  },
  {
   "cell_type": "code",
   "execution_count": 20,
   "metadata": {},
   "outputs": [
    {
     "data": {
      "text/plain": [
       "[(u'postgresql', 0.8904533386230469),\n",
       " (u'zend', 0.8901103138923645),\n",
       " (u'php', 0.886795163154602),\n",
       " (u'apache', 0.8820366859436035),\n",
       " (u'cakephp', 0.8752923011779785),\n",
       " (u'my_sql', 0.8735089302062988),\n",
       " (u'lamp', 0.8731725215911865),\n",
       " (u'open_source', 0.8700281381607056),\n",
       " (u'zencart', 0.8655450344085693),\n",
       " (u'zend_framework', 0.8649144172668457)]"
      ]
     },
     "execution_count": 20,
     "metadata": {},
     "output_type": "execute_result"
    }
   ],
   "source": [
    "model.similar_by_word('mysql')"
   ]
  },
  {
   "cell_type": "code",
   "execution_count": 21,
   "metadata": {},
   "outputs": [
    {
     "data": {
      "text/plain": [
       "[(u'mainframe', 0.9391623735427856),\n",
       " (u'jcl', 0.9366923570632935),\n",
       " (u'as_400', 0.9339416027069092),\n",
       " (u'cics', 0.9314805865287781),\n",
       " (u'rpg', 0.9302469491958618),\n",
       " (u'as400', 0.9189743995666504),\n",
       " (u'cobol', 0.916329026222229),\n",
       " (u'vsam', 0.9148311614990234),\n",
       " (u'ims_dc', 0.9146862030029297),\n",
       " (u'iseries', 0.912138819694519)]"
      ]
     },
     "execution_count": 21,
     "metadata": {},
     "output_type": "execute_result"
    }
   ],
   "source": [
    "model.similar_by_word('db2')"
   ]
  },
  {
   "cell_type": "code",
   "execution_count": 22,
   "metadata": {},
   "outputs": [
    {
     "data": {
      "text/plain": [
       "[(u'sql_server', 0.8586803674697876),\n",
       " (u'sql_queries', 0.8171682357788086),\n",
       " (u'ms_sql', 0.8151894807815552),\n",
       " (u'rdbms', 0.7995103001594543),\n",
       " (u'oracle_sql', 0.7978106141090393),\n",
       " (u'sql_database', 0.7919921875),\n",
       " (u'ms_sql_server', 0.7887479066848755),\n",
       " (u'sql_development', 0.7685669660568237),\n",
       " (u'oracle', 0.7604414224624634),\n",
       " (u'stored_procedures', 0.7512783408164978)]"
      ]
     },
     "execution_count": 22,
     "metadata": {},
     "output_type": "execute_result"
    }
   ],
   "source": [
    "model.similar_by_word('sql')"
   ]
  },
  {
   "cell_type": "code",
   "execution_count": 23,
   "metadata": {},
   "outputs": [
    {
     "data": {
      "text/plain": [
       "[(u'sql_2008', 0.977550208568573),\n",
       " (u'database_programming', 0.9753374457359314),\n",
       " (u't_sql', 0.971894383430481),\n",
       " (u't/sql', 0.9690109491348267),\n",
       " (u't-sql', 0.9673973321914673),\n",
       " (u'microsoft_sql', 0.9663206338882446),\n",
       " (u'sql_programming', 0.9655624628067017),\n",
       " (u'ms_-_sql', 0.9621620178222656),\n",
       " (u'tsql', 0.9614934325218201),\n",
       " (u'microsoft_sql_server', 0.961333155632019)]"
      ]
     },
     "execution_count": 23,
     "metadata": {},
     "output_type": "execute_result"
    }
   ],
   "source": [
    "model.similar_by_word('mssql')"
   ]
  },
  {
   "cell_type": "code",
   "execution_count": 24,
   "metadata": {},
   "outputs": [
    {
     "data": {
      "text/plain": [
       "[(u'mainframe', 0.9391623735427856),\n",
       " (u'jcl', 0.9366923570632935),\n",
       " (u'as_400', 0.9339416027069092),\n",
       " (u'cics', 0.9314805865287781),\n",
       " (u'rpg', 0.9302469491958618),\n",
       " (u'as400', 0.9189743995666504),\n",
       " (u'cobol', 0.916329026222229),\n",
       " (u'vsam', 0.9148311614990234),\n",
       " (u'ims_dc', 0.9146862030029297),\n",
       " (u'iseries', 0.912138819694519)]"
      ]
     },
     "execution_count": 24,
     "metadata": {},
     "output_type": "execute_result"
    }
   ],
   "source": [
    "model.similar_by_word('db2')"
   ]
  },
  {
   "cell_type": "code",
   "execution_count": 25,
   "metadata": {},
   "outputs": [
    {
     "data": {
      "text/plain": [
       "[(u'css3', 0.9599962830543518),\n",
       " (u'ui_development', 0.9453151822090149),\n",
       " (u'ui_developer', 0.9411906599998474),\n",
       " (u'bootstrap', 0.9401106834411621),\n",
       " (u'angular', 0.9390008449554443),\n",
       " (u'front-end', 0.9382939338684082),\n",
       " (u'frontend', 0.9346851110458374),\n",
       " (u'jquerry', 0.9328276515007019),\n",
       " (u'user_interface_development', 0.9299989938735962),\n",
       " (u'object_oriented_javascript', 0.9298042058944702)]"
      ]
     },
     "execution_count": 25,
     "metadata": {},
     "output_type": "execute_result"
    }
   ],
   "source": [
    "model.similar_by_word('html5')"
   ]
  },
  {
   "cell_type": "code",
   "execution_count": 26,
   "metadata": {},
   "outputs": [
    {
     "data": {
      "text/plain": [
       "[(u'oracle_sql', 0.820723295211792),\n",
       " (u'oracle_database', 0.8060543537139893),\n",
       " (u'web_sphere', 0.7909789085388184),\n",
       " (u'plsql', 0.7906963229179382),\n",
       " (u'pl', 0.7901702523231506),\n",
       " (u'rdbms', 0.786513090133667),\n",
       " (u'system_analyst', 0.7857550382614136),\n",
       " (u'unix', 0.7848482131958008),\n",
       " (u'oracle_rdbms', 0.7839452624320984),\n",
       " (u'sql_databases', 0.78342604637146)]"
      ]
     },
     "execution_count": 26,
     "metadata": {},
     "output_type": "execute_result"
    }
   ],
   "source": [
    "model.similar_by_word('oracle')"
   ]
  },
  {
   "cell_type": "code",
   "execution_count": 27,
   "metadata": {},
   "outputs": [
    {
     "data": {
      "text/plain": [
       "[(u'phalcon', 0.9917563796043396),\n",
       " (u'webdeveloper', 0.9917334318161011),\n",
       " (u'.web_developer', 0.9917197823524475),\n",
       " (u'php_development', 0.991561770439148),\n",
       " (u'php_5', 0.9905673265457153),\n",
       " (u'.web_software_engineer', 0.9891971945762634),\n",
       " (u'symfony_framework', 0.9889212250709534),\n",
       " (u'php_architect', 0.9887924194335938),\n",
       " (u'php_&amp;_mysql', 0.9883192777633667),\n",
       " (u'senior_php_developer', 0.9883060455322266)]"
      ]
     },
     "execution_count": 27,
     "metadata": {},
     "output_type": "execute_result"
    }
   ],
   "source": [
    "model.similar_by_word('php5')"
   ]
  },
  {
   "cell_type": "code",
   "execution_count": 28,
   "metadata": {},
   "outputs": [
    {
     "data": {
      "text/plain": [
       "[(u'classic_asp', 0.9644899368286133),\n",
       " (u'microsoft_visual_studio', 0.961052656173706),\n",
       " (u'visual_basic_.net', 0.960399329662323),\n",
       " (u'ms_sql_server_2005', 0.9572274684906006),\n",
       " (u'user_controls', 0.9556883573532104),\n",
       " (u'windows_sharepoint_services', 0.9555542469024658),\n",
       " (u'dot_net_framework', 0.9541379809379578),\n",
       " (u'com+', 0.9538134932518005),\n",
       " (u'remoting', 0.953339695930481),\n",
       " (u'vs.net', 0.9508565068244934)]"
      ]
     },
     "execution_count": 28,
     "metadata": {},
     "output_type": "execute_result"
    }
   ],
   "source": [
    "model.similar_by_word('asp')"
   ]
  },
  {
   "cell_type": "code",
   "execution_count": 29,
   "metadata": {},
   "outputs": [
    {
     "data": {
      "text/plain": [
       "[(u'boosting', 0.9351357817649841),\n",
       " (u'theano', 0.9252413511276245),\n",
       " (u'h2o', 0.9208034873008728),\n",
       " (u'random_forest', 0.916857123374939),\n",
       " (u'machine_training', 0.9107584357261658),\n",
       " (u'caffe', 0.9083511233329773),\n",
       " (u'apache_sqoop', 0.908349335193634),\n",
       " (u'neural_networks', 0.908269464969635),\n",
       " (u'octave', 0.9066129922866821),\n",
       " (u'text_analytics', 0.906141459941864)]"
      ]
     },
     "execution_count": 29,
     "metadata": {},
     "output_type": "execute_result"
    }
   ],
   "source": [
    "model.similar_by_word('svm')"
   ]
  },
  {
   "cell_type": "code",
   "execution_count": 30,
   "metadata": {},
   "outputs": [
    {
     "data": {
      "text/plain": [
       "[(u'flask', 0.9536893367767334),\n",
       " (u'python_developer', 0.950721025466919),\n",
       " (u'ror', 0.9489517211914062),\n",
       " (u'twisted', 0.9473798871040344),\n",
       " (u'lamp_stack', 0.9445514678955078),\n",
       " (u'pyramid', 0.9436725378036499),\n",
       " (u'pytohn', 0.9436454772949219),\n",
       " (u'backend_development', 0.9435844421386719),\n",
       " (u'mean_stack_development', 0.9435287714004517),\n",
       " (u'api_design', 0.9434955716133118)]"
      ]
     },
     "execution_count": 30,
     "metadata": {},
     "output_type": "execute_result"
    }
   ],
   "source": [
    "model.similar_by_word('django')"
   ]
  },
  {
   "cell_type": "code",
   "execution_count": 31,
   "metadata": {},
   "outputs": [
    {
     "data": {
      "text/plain": [
       "[(u'nosql', 0.9644761085510254),\n",
       " (u'node.js', 0.9415790438652039),\n",
       " (u'postgres', 0.9353598356246948),\n",
       " (u'full_stack', 0.9341529011726379),\n",
       " (u'solr', 0.9325692653656006),\n",
       " (u'mongo_db', 0.9288532137870789),\n",
       " (u'nodejs', 0.9269697666168213),\n",
       " (u'redis', 0.926455020904541),\n",
       " (u'cassandra', 0.9255849719047546),\n",
       " (u'mean_stack', 0.9224556684494019)]"
      ]
     },
     "execution_count": 31,
     "metadata": {},
     "output_type": "execute_result"
    }
   ],
   "source": [
    "model.similar_by_word('mongodb')"
   ]
  },
  {
   "cell_type": "code",
   "execution_count": 32,
   "metadata": {},
   "outputs": [
    {
     "data": {
      "text/plain": [
       "[(u'elastic_search', 0.9851661920547485),\n",
       " (u'no_sql', 0.9809781312942505),\n",
       " (u'neo4j', 0.9749455451965332),\n",
       " (u'oracle_nosql_database', 0.972252368927002),\n",
       " (u'postgres', 0.9706345796585083),\n",
       " (u'high_performance', 0.9705182313919067),\n",
       " (u'google_cloud', 0.9689809679985046),\n",
       " (u'redshift', 0.9687713384628296),\n",
       " (u'python_django', 0.9683542847633362),\n",
       " (u'zeromq', 0.9679644703865051)]"
      ]
     },
     "execution_count": 32,
     "metadata": {},
     "output_type": "execute_result"
    }
   ],
   "source": [
    "model.similar_by_word('mongo')"
   ]
  },
  {
   "cell_type": "code",
   "execution_count": 33,
   "metadata": {},
   "outputs": [
    {
     "data": {
      "text/plain": [
       "[(u'changman', 0.9860578775405884),\n",
       " (u'vantage', 0.9837855100631714),\n",
       " (u'jcl_developer', 0.9836094975471497),\n",
       " (u'coolgen_developer', 0.9831973910331726),\n",
       " (u'ca7', 0.9828194379806519),\n",
       " (u'upgrading', 0.9826165437698364),\n",
       " (u'wma', 0.9819715023040771),\n",
       " (u'endevour', 0.9814755916595459),\n",
       " (u'lifecomm', 0.9801531434059143),\n",
       " (u'cobal', 0.9799065589904785)]"
      ]
     },
     "execution_count": 33,
     "metadata": {},
     "output_type": "execute_result"
    }
   ],
   "source": [
    "model.similar_by_word('falcon')"
   ]
  },
  {
   "cell_type": "code",
   "execution_count": 34,
   "metadata": {},
   "outputs": [
    {
     "data": {
      "text/plain": [
       "[(u'lamp_stack', 0.9035072326660156),\n",
       " (u'*_magento_developer_certification', 0.8985456228256226),\n",
       " (u'jquerry', 0.898064374923706),\n",
       " (u'sales_force_development', 0.8953841924667358),\n",
       " (u'php_fullstack_developer', 0.8941729068756104),\n",
       " (u'object_oriented_php_programming', 0.8934909105300903),\n",
       " (u'full_stack_web_development', 0.8926893472671509),\n",
       " (u'shopify', 0.8924915790557861),\n",
       " (u'saas_-less', 0.8921962380409241),\n",
       " (u'senior_web_developer', 0.8918324708938599)]"
      ]
     },
     "execution_count": 34,
     "metadata": {},
     "output_type": "execute_result"
    }
   ],
   "source": [
    "model.similar_by_word('express')"
   ]
  },
  {
   "cell_type": "code",
   "execution_count": 35,
   "metadata": {},
   "outputs": [
    {
     "data": {
      "text/plain": [
       "[(u'hdfs', 0.975350022315979),\n",
       " (u'hive', 0.9712682962417603),\n",
       " (u'sparks', 0.9664201140403748),\n",
       " (u'cassandra', 0.9662449359893799),\n",
       " (u'storm', 0.9661303758621216),\n",
       " (u'scala', 0.9647467136383057),\n",
       " (u'map-reduce', 0.9645686745643616),\n",
       " (u'pig', 0.964016854763031),\n",
       " (u'data_engineering', 0.9635540246963501),\n",
       " (u'ambari', 0.9633440971374512)]"
      ]
     },
     "execution_count": 35,
     "metadata": {},
     "output_type": "execute_result"
    }
   ],
   "source": [
    "model.similar_by_word('spark')"
   ]
  },
  {
   "cell_type": "code",
   "execution_count": 36,
   "metadata": {},
   "outputs": [
    {
     "data": {
      "text/plain": [
       "[(u'hbase', 0.9534479975700378),\n",
       " (u'hive', 0.9463975429534912),\n",
       " (u'pig', 0.938024640083313),\n",
       " (u'spark', 0.936820387840271),\n",
       " (u'big_data', 0.929339587688446),\n",
       " (u'hdfs', 0.9256489276885986),\n",
       " (u'scala', 0.9244800209999084),\n",
       " (u'cassandra', 0.9214069843292236),\n",
       " (u'mapreduce', 0.9166395664215088),\n",
       " (u'bigdata', 0.9135311841964722)]"
      ]
     },
     "execution_count": 36,
     "metadata": {},
     "output_type": "execute_result"
    }
   ],
   "source": [
    "model.similar_by_word('hadoop')"
   ]
  },
  {
   "cell_type": "code",
   "execution_count": 37,
   "metadata": {},
   "outputs": [
    {
     "data": {
      "text/plain": [
       "[(u'hdfs', 0.9864153861999512),\n",
       " (u'spark', 0.9712682962417603),\n",
       " (u'pig', 0.9662244319915771),\n",
       " (u'hbase', 0.9647097587585449),\n",
       " (u'map_reduce', 0.9629838466644287),\n",
       " (u'cassandra', 0.9532560706138611),\n",
       " (u'hiveql', 0.9513139128684998),\n",
       " (u'ambari', 0.9501124620437622),\n",
       " (u'sqoop', 0.9487943649291992),\n",
       " (u'apache_flume', 0.9486385583877563)]"
      ]
     },
     "execution_count": 37,
     "metadata": {},
     "output_type": "execute_result"
    }
   ],
   "source": [
    "model.similar_by_word('hive')"
   ]
  },
  {
   "cell_type": "code",
   "execution_count": 38,
   "metadata": {},
   "outputs": [
    {
     "data": {
      "text/plain": [
       "[(u'storm', 0.9902775287628174),\n",
       " (u'big_data_architect', 0.9894396066665649),\n",
       " (u'oozie', 0.9876737594604492),\n",
       " (u'sqoop', 0.9868731498718262),\n",
       " (u'ambari', 0.9854146242141724),\n",
       " (u'sparks', 0.9847355484962463),\n",
       " (u'cloudera_impala', 0.9839766621589661),\n",
       " (u'hortonworks', 0.9838944673538208),\n",
       " (u'hadoop_development', 0.9831902980804443),\n",
       " (u'big_data_technologies', 0.9826507568359375)]"
      ]
     },
     "execution_count": 38,
     "metadata": {},
     "output_type": "execute_result"
    }
   ],
   "source": [
    "model.similar_by_word('impala')"
   ]
  },
  {
   "cell_type": "code",
   "execution_count": 39,
   "metadata": {},
   "outputs": [
    {
     "data": {
      "text/plain": [
       "[(u'flume', 0.9978626370429993),\n",
       " (u'sqoop', 0.993576169013977),\n",
       " (u'hortonworks', 0.9927583932876587),\n",
       " (u'big_data_architect', 0.9914911389350891),\n",
       " (u'hadoop_development', 0.9908590316772461),\n",
       " (u'ambari', 0.9900696873664856),\n",
       " (u'storm', 0.9888783693313599),\n",
       " (u'shark', 0.9877080917358398),\n",
       " (u'impala', 0.9876737594604492),\n",
       " (u'hadoop_developer', 0.9875854253768921)]"
      ]
     },
     "execution_count": 39,
     "metadata": {},
     "output_type": "execute_result"
    }
   ],
   "source": [
    "model.similar_by_word('oozie')"
   ]
  },
  {
   "cell_type": "code",
   "execution_count": null,
   "metadata": {},
   "outputs": [],
   "source": []
  },
  {
   "cell_type": "code",
   "execution_count": 41,
   "metadata": {},
   "outputs": [
    {
     "data": {
      "text/plain": [
       "[(u'varnish', 0.9811279773712158),\n",
       " (u'lighttpd', 0.9765704274177551),\n",
       " (u'memcached', 0.9754940271377563),\n",
       " (u'haproxy', 0.9726861715316772),\n",
       " (u'phpunit', 0.9696424007415771),\n",
       " (u'aws_elastic_beanstalk', 0.9688529372215271),\n",
       " (u'vagrant', 0.9684524536132812),\n",
       " (u'debian_linux', 0.9671319723129272),\n",
       " (u'zabbix', 0.9663083553314209),\n",
       " (u'memcache', 0.9658818244934082)]"
      ]
     },
     "execution_count": 41,
     "metadata": {},
     "output_type": "execute_result"
    }
   ],
   "source": [
    "model.similar_by_word('nginx')"
   ]
  },
  {
   "cell_type": "code",
   "execution_count": 42,
   "metadata": {},
   "outputs": [
    {
     "data": {
      "text/plain": [
       "[(u'json', 0.9250497221946716),\n",
       " (u'soap', 0.9241546988487244),\n",
       " (u'restful', 0.923047661781311),\n",
       " (u'restful_web_services', 0.899715781211853),\n",
       " (u'apigee', 0.8967372179031372),\n",
       " (u'rest_api', 0.8954670429229736),\n",
       " (u'worklight', 0.8930211067199707),\n",
       " (u'rest_services', 0.8915902376174927),\n",
       " (u'android_app', 0.8899410963058472),\n",
       " (u'singleton', 0.8897507190704346)]"
      ]
     },
     "execution_count": 42,
     "metadata": {},
     "output_type": "execute_result"
    }
   ],
   "source": [
    "model.similar_by_word('rest')"
   ]
  },
  {
   "cell_type": "code",
   "execution_count": 43,
   "metadata": {},
   "outputs": [
    {
     "data": {
      "text/plain": [
       "[(u'c#', 0.9468095898628235),\n",
       " (u'asp.net', 0.9315366744995117),\n",
       " (u'c#.net', 0.9251785278320312),\n",
       " (u'dot_net', 0.9211883544921875),\n",
       " (u'dotnet', 0.9155071973800659),\n",
       " (u'.net_developer', 0.9129540324211121),\n",
       " (u'asp_.net', 0.9070920944213867),\n",
       " (u'vb.net', 0.8996402025222778),\n",
       " (u'.net_framework', 0.8986883759498596),\n",
       " (u'vb_.net', 0.8871078491210938)]"
      ]
     },
     "execution_count": 43,
     "metadata": {},
     "output_type": "execute_result"
    }
   ],
   "source": [
    "model.similar_by_word('.net')"
   ]
  },
  {
   "cell_type": "code",
   "execution_count": 44,
   "metadata": {},
   "outputs": [
    {
     "data": {
      "text/plain": [
       "[(u'shell', 0.8857336044311523),\n",
       " (u'shell_scripting', 0.8838289380073547),\n",
       " (u'bash', 0.8750884532928467),\n",
       " (u'scripting', 0.8634020686149597),\n",
       " (u'devops_automation_tools', 0.8516108393669128),\n",
       " (u'ruby', 0.8494759798049927),\n",
       " (u'tcl', 0.8479472398757935),\n",
       " (u'scripts', 0.8474525213241577),\n",
       " (u'sre', 0.8432766199111938),\n",
       " (u'perl_scripting', 0.8419920206069946)]"
      ]
     },
     "execution_count": 44,
     "metadata": {},
     "output_type": "execute_result"
    }
   ],
   "source": [
    "model.similar_by_word('perl')"
   ]
  },
  {
   "cell_type": "code",
   "execution_count": 45,
   "metadata": {},
   "outputs": [
    {
     "data": {
      "text/plain": [
       "[(u'games_console', 0.9214930534362793),\n",
       " (u'sublime_text', 0.9046214818954468),\n",
       " (u'unity3d', 0.8957223892211914),\n",
       " (u'technical_artist', 0.8919845819473267),\n",
       " (u'microsoft_direct3d', 0.8916783928871155),\n",
       " (u'vista', 0.8900236487388611),\n",
       " (u'unity_3d', 0.8878706693649292),\n",
       " (u'low-level_engine_systems', 0.8852602243423462),\n",
       " (u'console', 0.8846390247344971),\n",
       " (u'aaa', 0.8795377016067505)]"
      ]
     },
     "execution_count": 45,
     "metadata": {},
     "output_type": "execute_result"
    }
   ],
   "source": [
    "model.similar_by_word('unity')"
   ]
  },
  {
   "cell_type": "code",
   "execution_count": 46,
   "metadata": {},
   "outputs": [
    {
     "data": {
      "text/plain": [
       "[(u'2d', 0.9850590825080872),\n",
       " (u'3dsmax', 0.9630557894706726),\n",
       " (u'rendering', 0.9622738361358643),\n",
       " (u'3ds_max', 0.9596410393714905),\n",
       " (u'vray', 0.9593963623046875),\n",
       " (u'terrain', 0.9567844867706299),\n",
       " (u'weapons', 0.9553167819976807),\n",
       " (u'autodesk_3ds_max', 0.9520688056945801),\n",
       " (u'zbrush', 0.9519199728965759),\n",
       " (u'3d_artist', 0.9511045813560486)]"
      ]
     },
     "execution_count": 46,
     "metadata": {},
     "output_type": "execute_result"
    }
   ],
   "source": [
    "model.similar_by_word('3d')"
   ]
  },
  {
   "cell_type": "code",
   "execution_count": 47,
   "metadata": {},
   "outputs": [
    {
     "data": {
      "text/plain": [
       "[(u'drupal', 0.968530535697937),\n",
       " (u'joomla', 0.9621365070343018),\n",
       " (u'oscommerce', 0.9494010806083679),\n",
       " (u'magento', 0.9465824961662292),\n",
       " (u'core_php', 0.9465187788009644),\n",
       " (u'cake_php', 0.941646933555603),\n",
       " (u'opencart', 0.9410149455070496),\n",
       " (u'zend_framework', 0.9374854564666748),\n",
       " (u'smarty', 0.9365031719207764),\n",
       " (u'cakephp', 0.9353802800178528)]"
      ]
     },
     "execution_count": 47,
     "metadata": {},
     "output_type": "execute_result"
    }
   ],
   "source": [
    "model.similar_by_word('wordpress')"
   ]
  },
  {
   "cell_type": "code",
   "execution_count": 48,
   "metadata": {},
   "outputs": [
    {
     "data": {
      "text/plain": [
       "[(u'ajax', 0.9046893119812012),\n",
       " (u'html5', 0.886608898639679),\n",
       " (u'css3', 0.8828490972518921),\n",
       " (u'web_development', 0.8801085948944092),\n",
       " (u'mvc', 0.8758147954940796),\n",
       " (u'dhtml', 0.875282883644104),\n",
       " (u'xhtml', 0.8744614124298096),\n",
       " (u'html_5', 0.8666660785675049),\n",
       " (u'mvc_framework', 0.8644943237304688),\n",
       " (u'ui_development', 0.851926326751709)]"
      ]
     },
     "execution_count": 48,
     "metadata": {},
     "output_type": "execute_result"
    }
   ],
   "source": [
    "model.similar_by_word('jquery')"
   ]
  },
  {
   "cell_type": "code",
   "execution_count": 49,
   "metadata": {},
   "outputs": [
    {
     "data": {
      "text/plain": [
       "[(u'dhtml', 0.9191069602966309),\n",
       " (u'xhtml', 0.9145079851150513),\n",
       " (u'css3', 0.9141147136688232),\n",
       " (u'mvc', 0.9137628674507141),\n",
       " (u'web_development', 0.9129828214645386),\n",
       " (u'mvc_framework', 0.9075711965560913),\n",
       " (u'oops_concept', 0.9058328866958618),\n",
       " (u'html_5', 0.9055528044700623),\n",
       " (u'jquery', 0.9046891331672668),\n",
       " (u'dojo', 0.9034239649772644)]"
      ]
     },
     "execution_count": 49,
     "metadata": {},
     "output_type": "execute_result"
    }
   ],
   "source": [
    "model.similar_by_word('ajax')"
   ]
  },
  {
   "cell_type": "markdown",
   "metadata": {
    "collapsed": true
   },
   "source": [
    "# CBow"
   ]
  },
  {
   "cell_type": "code",
   "execution_count": 52,
   "metadata": {},
   "outputs": [
    {
     "name": "stderr",
     "output_type": "stream",
     "text": [
      "2017-03-26 12:02:41,708 : INFO : collecting all words and their counts\n",
      "2017-03-26 12:02:41,737 : INFO : PROGRESS: at sentence #0, processed 0 words, keeping 0 word types\n",
      "2017-03-26 12:02:42,623 : INFO : PROGRESS: at sentence #10000, processed 252829 words, keeping 13698 word types\n",
      "2017-03-26 12:02:42,835 : INFO : PROGRESS: at sentence #20000, processed 339328 words, keeping 26903 word types\n",
      "2017-03-26 12:02:42,963 : INFO : PROGRESS: at sentence #30000, processed 425645 words, keeping 35987 word types\n",
      "2017-03-26 12:02:43,140 : INFO : PROGRESS: at sentence #40000, processed 512177 words, keeping 44819 word types\n",
      "2017-03-26 12:02:43,788 : INFO : PROGRESS: at sentence #50000, processed 601256 words, keeping 53029 word types\n",
      "2017-03-26 12:02:44,195 : INFO : PROGRESS: at sentence #60000, processed 687557 words, keeping 59866 word types\n",
      "2017-03-26 12:02:44,472 : INFO : PROGRESS: at sentence #70000, processed 773345 words, keeping 67205 word types\n",
      "2017-03-26 12:02:44,783 : INFO : PROGRESS: at sentence #80000, processed 857502 words, keeping 74140 word types\n",
      "2017-03-26 12:02:45,096 : INFO : PROGRESS: at sentence #90000, processed 946767 words, keeping 79233 word types\n",
      "2017-03-26 12:02:45,294 : INFO : PROGRESS: at sentence #100000, processed 1035358 words, keeping 85044 word types\n",
      "2017-03-26 12:02:45,646 : INFO : collected 89697 word types from a corpus of 1100915 raw words and 107620 sentences\n",
      "2017-03-26 12:02:45,656 : INFO : Loading a fresh vocabulary\n",
      "2017-03-26 12:02:52,459 : INFO : min_count=1 retains 89697 unique words (100% of original 89697, drops 0)\n",
      "2017-03-26 12:02:52,472 : INFO : min_count=1 leaves 1100915 word corpus (100% of original 1100915, drops 0)\n",
      "2017-03-26 12:02:53,335 : INFO : deleting the raw counts dictionary of 89697 items\n",
      "2017-03-26 12:02:53,375 : INFO : sample=0.001 downsamples 15 most-common words\n",
      "2017-03-26 12:02:53,380 : INFO : downsampling leaves estimated 1086098 word corpus (98.7% of prior 1100915)\n",
      "2017-03-26 12:02:53,382 : INFO : estimated required memory for 89697 words and 300 dimensions: 260121300 bytes\n",
      "2017-03-26 12:02:55,096 : INFO : resetting layer weights\n",
      "2017-03-26 12:02:59,515 : INFO : training model with 12 workers on 89697 vocabulary and 300 features, using sg=0 hs=0 sample=0.001 negative=5 window=10\n",
      "2017-03-26 12:02:59,527 : INFO : expecting 107620 sentences, matching count from corpus used for vocabulary survey\n",
      "2017-03-26 12:03:00,788 : INFO : PROGRESS: at 0.09% examples, 8412 words/s, in_qsize 1, out_qsize 2\n",
      "2017-03-26 12:03:01,926 : INFO : PROGRESS: at 0.53% examples, 25152 words/s, in_qsize 18, out_qsize 1\n",
      "2017-03-26 12:03:02,941 : INFO : PROGRESS: at 0.71% examples, 23513 words/s, in_qsize 23, out_qsize 0\n",
      "2017-03-26 12:03:04,680 : INFO : PROGRESS: at 1.15% examples, 25274 words/s, in_qsize 20, out_qsize 4\n",
      "2017-03-26 12:03:05,960 : INFO : PROGRESS: at 1.58% examples, 27975 words/s, in_qsize 23, out_qsize 0\n",
      "2017-03-26 12:03:07,378 : INFO : PROGRESS: at 2.31% examples, 30484 words/s, in_qsize 22, out_qsize 3\n",
      "2017-03-26 12:03:09,414 : INFO : PROGRESS: at 3.04% examples, 28187 words/s, in_qsize 23, out_qsize 1\n",
      "2017-03-26 12:03:10,469 : INFO : PROGRESS: at 4.40% examples, 29969 words/s, in_qsize 22, out_qsize 1\n",
      "2017-03-26 12:03:11,520 : INFO : PROGRESS: at 5.17% examples, 29777 words/s, in_qsize 23, out_qsize 1\n",
      "2017-03-26 12:03:12,867 : INFO : PROGRESS: at 5.45% examples, 27507 words/s, in_qsize 24, out_qsize 2\n",
      "2017-03-26 12:03:14,434 : INFO : PROGRESS: at 7.06% examples, 28593 words/s, in_qsize 24, out_qsize 0\n",
      "2017-03-26 12:03:15,622 : INFO : PROGRESS: at 8.13% examples, 28939 words/s, in_qsize 23, out_qsize 0\n",
      "2017-03-26 12:03:17,405 : INFO : PROGRESS: at 9.20% examples, 28252 words/s, in_qsize 20, out_qsize 1\n",
      "2017-03-26 12:03:18,446 : INFO : PROGRESS: at 11.28% examples, 30858 words/s, in_qsize 13, out_qsize 0\n",
      "2017-03-26 12:03:20,521 : INFO : PROGRESS: at 12.36% examples, 29761 words/s, in_qsize 14, out_qsize 0\n",
      "2017-03-26 12:03:22,223 : INFO : PROGRESS: at 14.26% examples, 30493 words/s, in_qsize 23, out_qsize 0\n",
      "2017-03-26 12:03:23,623 : INFO : PROGRESS: at 15.62% examples, 30761 words/s, in_qsize 21, out_qsize 0\n",
      "2017-03-26 12:03:25,254 : INFO : PROGRESS: at 16.46% examples, 30080 words/s, in_qsize 23, out_qsize 0\n",
      "2017-03-26 12:03:27,448 : INFO : PROGRESS: at 17.27% examples, 29931 words/s, in_qsize 21, out_qsize 6\n",
      "2017-03-26 12:03:27,503 : INFO : PROGRESS: at 17.55% examples, 28955 words/s, in_qsize 19, out_qsize 8\n",
      "2017-03-26 12:03:28,736 : INFO : PROGRESS: at 17.82% examples, 28070 words/s, in_qsize 16, out_qsize 11\n",
      "2017-03-26 12:03:30,188 : INFO : PROGRESS: at 21.79% examples, 31548 words/s, in_qsize 24, out_qsize 0\n",
      "2017-03-26 12:03:31,287 : INFO : PROGRESS: at 22.06% examples, 30766 words/s, in_qsize 24, out_qsize 2\n",
      "2017-03-26 12:03:33,324 : INFO : PROGRESS: at 24.44% examples, 31528 words/s, in_qsize 21, out_qsize 1\n",
      "2017-03-26 12:03:34,551 : INFO : PROGRESS: at 25.00% examples, 31557 words/s, in_qsize 23, out_qsize 0\n",
      "2017-03-26 12:03:36,059 : INFO : PROGRESS: at 25.08% examples, 30527 words/s, in_qsize 21, out_qsize 6\n",
      "2017-03-26 12:03:37,534 : INFO : PROGRESS: at 25.87% examples, 31171 words/s, in_qsize 23, out_qsize 0\n",
      "2017-03-26 12:03:38,856 : INFO : PROGRESS: at 26.06% examples, 30630 words/s, in_qsize 23, out_qsize 1\n",
      "2017-03-26 12:03:40,508 : INFO : PROGRESS: at 26.32% examples, 30125 words/s, in_qsize 23, out_qsize 0\n",
      "2017-03-26 12:03:41,941 : INFO : PROGRESS: at 26.90% examples, 30509 words/s, in_qsize 23, out_qsize 0\n",
      "2017-03-26 12:03:43,233 : INFO : PROGRESS: at 27.48% examples, 30284 words/s, in_qsize 23, out_qsize 0\n",
      "2017-03-26 12:03:45,488 : INFO : PROGRESS: at 28.27% examples, 29867 words/s, in_qsize 23, out_qsize 1\n",
      "2017-03-26 12:03:46,991 : INFO : PROGRESS: at 29.33% examples, 29749 words/s, in_qsize 23, out_qsize 0\n",
      "2017-03-26 12:03:48,317 : INFO : PROGRESS: at 31.21% examples, 30351 words/s, in_qsize 24, out_qsize 2\n",
      "2017-03-26 12:03:50,566 : INFO : PROGRESS: at 32.82% examples, 30176 words/s, in_qsize 23, out_qsize 1\n",
      "2017-03-26 12:03:52,115 : INFO : PROGRESS: at 34.14% examples, 30245 words/s, in_qsize 24, out_qsize 1\n",
      "2017-03-26 12:03:53,548 : INFO : PROGRESS: at 35.41% examples, 30336 words/s, in_qsize 21, out_qsize 3\n",
      "2017-03-26 12:03:55,251 : INFO : PROGRESS: at 37.28% examples, 30639 words/s, in_qsize 24, out_qsize 0\n",
      "2017-03-26 12:03:56,691 : INFO : PROGRESS: at 38.11% examples, 30385 words/s, in_qsize 22, out_qsize 1\n",
      "2017-03-26 12:03:58,369 : INFO : PROGRESS: at 40.00% examples, 30691 words/s, in_qsize 23, out_qsize 0\n",
      "2017-03-26 12:03:59,412 : INFO : PROGRESS: at 40.29% examples, 30334 words/s, in_qsize 23, out_qsize 2\n",
      "2017-03-26 12:04:01,695 : INFO : PROGRESS: at 41.64% examples, 29998 words/s, in_qsize 22, out_qsize 1\n",
      "2017-03-26 12:04:02,807 : INFO : PROGRESS: at 43.29% examples, 30406 words/s, in_qsize 18, out_qsize 0\n",
      "2017-03-26 12:04:03,851 : INFO : PROGRESS: at 43.55% examples, 30066 words/s, in_qsize 23, out_qsize 0\n",
      "2017-03-26 12:04:05,096 : INFO : PROGRESS: at 44.11% examples, 29795 words/s, in_qsize 23, out_qsize 0\n",
      "2017-03-26 12:04:06,563 : INFO : PROGRESS: at 45.66% examples, 30024 words/s, in_qsize 18, out_qsize 0\n",
      "2017-03-26 12:04:08,330 : INFO : PROGRESS: at 45.92% examples, 29388 words/s, in_qsize 24, out_qsize 1\n",
      "2017-03-26 12:04:12,766 : INFO : PROGRESS: at 46.45% examples, 28740 words/s, in_qsize 24, out_qsize 6\n",
      "2017-03-26 12:04:14,812 : INFO : PROGRESS: at 46.71% examples, 27249 words/s, in_qsize 17, out_qsize 11\n",
      "2017-03-26 12:04:15,894 : INFO : PROGRESS: at 50.08% examples, 28667 words/s, in_qsize 23, out_qsize 0\n",
      "2017-03-26 12:04:17,162 : INFO : PROGRESS: at 50.17% examples, 28327 words/s, in_qsize 23, out_qsize 0\n",
      "2017-03-26 12:04:18,208 : INFO : PROGRESS: at 50.49% examples, 28330 words/s, in_qsize 22, out_qsize 1\n",
      "2017-03-26 12:04:20,073 : INFO : PROGRESS: at 50.68% examples, 27930 words/s, in_qsize 20, out_qsize 4\n",
      "2017-03-26 12:04:21,887 : INFO : PROGRESS: at 51.29% examples, 28154 words/s, in_qsize 21, out_qsize 1\n",
      "2017-03-26 12:04:23,440 : INFO : PROGRESS: at 51.59% examples, 27988 words/s, in_qsize 22, out_qsize 1\n",
      "2017-03-26 12:04:25,158 : INFO : PROGRESS: at 51.69% examples, 27595 words/s, in_qsize 24, out_qsize 7\n",
      "2017-03-26 12:04:28,946 : INFO : PROGRESS: at 53.20% examples, 27918 words/s, in_qsize 23, out_qsize 8\n",
      "2017-03-26 12:04:29,224 : INFO : PROGRESS: at 53.49% examples, 27501 words/s, in_qsize 18, out_qsize 7\n",
      "2017-03-26 12:04:30,473 : INFO : PROGRESS: at 53.76% examples, 27236 words/s, in_qsize 17, out_qsize 7\n",
      "2017-03-26 12:04:32,508 : INFO : PROGRESS: at 56.42% examples, 27691 words/s, in_qsize 13, out_qsize 1\n",
      "2017-03-26 12:04:35,090 : INFO : PROGRESS: at 58.03% examples, 27563 words/s, in_qsize 18, out_qsize 1\n",
      "2017-03-26 12:04:37,758 : INFO : PROGRESS: at 59.12% examples, 27216 words/s, in_qsize 24, out_qsize 0\n",
      "2017-03-26 12:04:40,712 : INFO : PROGRESS: at 60.67% examples, 27005 words/s, in_qsize 22, out_qsize 0\n",
      "2017-03-26 12:04:44,498 : INFO : PROGRESS: at 61.45% examples, 26315 words/s, in_qsize 24, out_qsize 0\n",
      "2017-03-26 12:04:47,282 : INFO : PROGRESS: at 63.35% examples, 26272 words/s, in_qsize 23, out_qsize 0\n",
      "2017-03-26 12:04:49,355 : INFO : PROGRESS: at 64.67% examples, 26223 words/s, in_qsize 22, out_qsize 1\n",
      "2017-03-26 12:04:51,143 : INFO : PROGRESS: at 66.58% examples, 26420 words/s, in_qsize 24, out_qsize 1\n",
      "2017-03-26 12:04:53,440 : INFO : PROGRESS: at 66.86% examples, 25975 words/s, in_qsize 23, out_qsize 4\n",
      "2017-03-26 12:04:55,356 : INFO : PROGRESS: at 69.32% examples, 26310 words/s, in_qsize 23, out_qsize 1\n",
      "2017-03-26 12:04:58,168 : INFO : PROGRESS: at 69.84% examples, 25851 words/s, in_qsize 23, out_qsize 6\n",
      "2017-03-26 12:05:00,967 : INFO : PROGRESS: at 70.10% examples, 25406 words/s, in_qsize 24, out_qsize 5\n",
      "2017-03-26 12:05:04,991 : INFO : PROGRESS: at 72.97% examples, 25384 words/s, in_qsize 19, out_qsize 4\n",
      "2017-03-26 12:05:06,684 : INFO : PROGRESS: at 73.22% examples, 25122 words/s, in_qsize 18, out_qsize 5\n",
      "2017-03-26 12:05:08,081 : INFO : PROGRESS: at 75.04% examples, 25385 words/s, in_qsize 21, out_qsize 0\n",
      "2017-03-26 12:05:10,248 : INFO : PROGRESS: at 75.47% examples, 25345 words/s, in_qsize 24, out_qsize 0\n",
      "2017-03-26 12:05:12,458 : INFO : PROGRESS: at 75.57% examples, 24998 words/s, in_qsize 22, out_qsize 1\n",
      "2017-03-26 12:05:13,981 : INFO : PROGRESS: at 75.66% examples, 24791 words/s, in_qsize 20, out_qsize 3\n",
      "2017-03-26 12:05:15,915 : INFO : PROGRESS: at 75.74% examples, 24631 words/s, in_qsize 22, out_qsize 6\n",
      "2017-03-26 12:05:16,393 : INFO : PROGRESS: at 75.84% examples, 24498 words/s, in_qsize 20, out_qsize 8\n",
      "2017-03-26 12:05:18,309 : INFO : PROGRESS: at 76.78% examples, 24876 words/s, in_qsize 23, out_qsize 0\n",
      "2017-03-26 12:05:22,502 : INFO : PROGRESS: at 77.17% examples, 24779 words/s, in_qsize 21, out_qsize 4\n",
      "2017-03-26 12:05:23,666 : INFO : PROGRESS: at 77.24% examples, 24403 words/s, in_qsize 19, out_qsize 8\n",
      "2017-03-26 12:05:24,448 : INFO : PROGRESS: at 77.50% examples, 24230 words/s, in_qsize 14, out_qsize 9\n",
      "2017-03-26 12:05:25,733 : INFO : PROGRESS: at 77.77% examples, 24085 words/s, in_qsize 12, out_qsize 11\n",
      "2017-03-26 12:05:27,804 : INFO : PROGRESS: at 81.92% examples, 24812 words/s, in_qsize 23, out_qsize 0\n",
      "2017-03-26 12:05:29,155 : INFO : PROGRESS: at 82.18% examples, 24653 words/s, in_qsize 23, out_qsize 0\n",
      "2017-03-26 12:05:30,788 : INFO : PROGRESS: at 83.48% examples, 24713 words/s, in_qsize 21, out_qsize 0\n",
      "2017-03-26 12:05:34,397 : INFO : PROGRESS: at 85.07% examples, 24519 words/s, in_qsize 23, out_qsize 0\n",
      "2017-03-26 12:05:35,758 : INFO : PROGRESS: at 86.14% examples, 24558 words/s, in_qsize 19, out_qsize 1\n",
      "2017-03-26 12:05:38,312 : INFO : PROGRESS: at 86.41% examples, 24225 words/s, in_qsize 24, out_qsize 5\n",
      "2017-03-26 12:05:39,611 : INFO : PROGRESS: at 88.25% examples, 24456 words/s, in_qsize 23, out_qsize 0\n",
      "2017-03-26 12:05:40,814 : INFO : PROGRESS: at 88.78% examples, 24396 words/s, in_qsize 23, out_qsize 0\n",
      "2017-03-26 12:05:42,456 : INFO : PROGRESS: at 89.88% examples, 24391 words/s, in_qsize 19, out_qsize 1\n",
      "2017-03-26 12:05:44,885 : INFO : PROGRESS: at 91.28% examples, 24331 words/s, in_qsize 23, out_qsize 0\n",
      "2017-03-26 12:05:48,250 : INFO : PROGRESS: at 92.64% examples, 24195 words/s, in_qsize 24, out_qsize 3\n",
      "2017-03-26 12:05:49,155 : INFO : PROGRESS: at 92.92% examples, 24068 words/s, in_qsize 20, out_qsize 7\n",
      "2017-03-26 12:05:50,551 : INFO : PROGRESS: at 93.20% examples, 23929 words/s, in_qsize 20, out_qsize 6\n",
      "2017-03-26 12:05:52,472 : INFO : PROGRESS: at 96.62% examples, 24400 words/s, in_qsize 11, out_qsize 3\n",
      "2017-03-26 12:05:53,341 : INFO : worker thread finished; awaiting finish of 11 more threads\n",
      "2017-03-26 12:05:53,715 : INFO : PROGRESS: at 97.39% examples, 24395 words/s, in_qsize 10, out_qsize 1\n",
      "2017-03-26 12:05:53,743 : INFO : worker thread finished; awaiting finish of 10 more threads\n",
      "2017-03-26 12:05:54,470 : INFO : worker thread finished; awaiting finish of 9 more threads\n",
      "2017-03-26 12:05:54,477 : INFO : worker thread finished; awaiting finish of 8 more threads\n",
      "2017-03-26 12:05:54,485 : INFO : worker thread finished; awaiting finish of 7 more threads\n",
      "2017-03-26 12:05:54,489 : INFO : worker thread finished; awaiting finish of 6 more threads\n",
      "2017-03-26 12:05:55,355 : INFO : PROGRESS: at 98.73% examples, 24447 words/s, in_qsize 1, out_qsize 9\n",
      "2017-03-26 12:05:55,382 : INFO : worker thread finished; awaiting finish of 5 more threads\n",
      "2017-03-26 12:05:55,384 : INFO : worker thread finished; awaiting finish of 4 more threads\n",
      "2017-03-26 12:05:55,386 : INFO : worker thread finished; awaiting finish of 3 more threads\n",
      "2017-03-26 12:05:55,388 : INFO : worker thread finished; awaiting finish of 2 more threads\n",
      "2017-03-26 12:05:55,389 : INFO : worker thread finished; awaiting finish of 1 more threads\n",
      "2017-03-26 12:05:55,667 : INFO : worker thread finished; awaiting finish of 0 more threads\n",
      "2017-03-26 12:05:55,692 : INFO : training on 4403660 raw words (4344463 effective words) took 176.1s, 24664 effective words/s\n"
     ]
    }
   ],
   "source": [
    "model = word2vec.Word2Vec(data_train_w2v, \n",
    "          workers=multiprocessing.cpu_count(),  # Number of threads to run in parallel\n",
    "          size=300, \n",
    "          min_count=1, \n",
    "          window=10, \n",
    "          sample = 1e-3,  # Downsample setting for frequent words\n",
    "          iter=4,\n",
    "          sg = 0\n",
    "    )"
   ]
  },
  {
   "cell_type": "code",
   "execution_count": 53,
   "metadata": {},
   "outputs": [
    {
     "name": "stderr",
     "output_type": "stream",
     "text": [
      "2017-03-26 12:06:41,481 : INFO : precomputing L2-norms of word weight vectors\n"
     ]
    },
    {
     "data": {
      "text/plain": [
       "[(u'jquery', 0.9799237847328186),\n",
       " (u'oops_concept', 0.9631683230400085),\n",
       " (u'cors', 0.9599649310112),\n",
       " (u'xml', 0.9569321870803833),\n",
       " (u'datase_design', 0.9551745057106018),\n",
       " (u'project_leader', 0.9536941051483154),\n",
       " (u'javascript', 0.9460086822509766),\n",
       " (u'dojo', 0.9448497891426086),\n",
       " (u'web_applications', 0.944618284702301),\n",
       " (u'j_query', 0.9441736340522766)]"
      ]
     },
     "execution_count": 53,
     "metadata": {},
     "output_type": "execute_result"
    }
   ],
   "source": [
    "model.similar_by_word('ajax')"
   ]
  },
  {
   "cell_type": "code",
   "execution_count": 54,
   "metadata": {},
   "outputs": [
    {
     "data": {
      "text/plain": [
       "[(u'ajax', 0.9799237847328186),\n",
       " (u'java_script', 0.9726011157035828),\n",
       " (u'css3', 0.968498945236206),\n",
       " (u'mvc_architecture', 0.9619268178939819),\n",
       " (u'web_applications', 0.9617539048194885),\n",
       " (u'xhtml', 0.9617353081703186),\n",
       " (u'oops_concept', 0.9608449935913086),\n",
       " (u'php_&amp;_mysql', 0.9579470753669739),\n",
       " (u'j_query', 0.9555204510688782),\n",
       " (u'dojo', 0.9544689655303955)]"
      ]
     },
     "execution_count": 54,
     "metadata": {},
     "output_type": "execute_result"
    }
   ],
   "source": [
    "model.similar_by_word('jquery')"
   ]
  },
  {
   "cell_type": "code",
   "execution_count": 55,
   "metadata": {},
   "outputs": [
    {
     "data": {
      "text/plain": [
       "[(u'text_mining', 0.9878635406494141),\n",
       " (u'data_science', 0.9831763505935669),\n",
       " (u'natural_language_processing', 0.9705295562744141),\n",
       " (u'recommendation', 0.9662976861000061),\n",
       " (u'nlp', 0.9646196365356445),\n",
       " (u'r', 0.9635378122329712),\n",
       " (u'pattern_recognition', 0.962368905544281),\n",
       " (u'predictive_modelling', 0.9602572917938232),\n",
       " (u'a/b_test', 0.9589652419090271),\n",
       " (u'deep_learning_engineer', 0.9550145864486694)]"
      ]
     },
     "execution_count": 55,
     "metadata": {},
     "output_type": "execute_result"
    }
   ],
   "source": [
    "model.similar_by_word('machine_learning')"
   ]
  },
  {
   "cell_type": "code",
   "execution_count": 56,
   "metadata": {},
   "outputs": [
    {
     "data": {
      "text/plain": [
       "[(u'rails', 0.9852372407913208),\n",
       " (u'go', 0.9807846546173096),\n",
       " (u'python', 0.9746548533439636),\n",
       " (u'open_source', 0.9708530306816101),\n",
       " (u'django', 0.969756007194519),\n",
       " (u'ror', 0.9674355387687683),\n",
       " (u'golang', 0.9654083251953125),\n",
       " (u'mobile_backend', 0.9613569378852844),\n",
       " (u'ruby_on_rails', 0.9581874012947083),\n",
       " (u'scripted', 0.9531949758529663)]"
      ]
     },
     "execution_count": 56,
     "metadata": {},
     "output_type": "execute_result"
    }
   ],
   "source": [
    "model.similar_by_word('ruby')"
   ]
  },
  {
   "cell_type": "code",
   "execution_count": 57,
   "metadata": {},
   "outputs": [
    {
     "data": {
      "text/plain": [
       "[(u'php', 0.9603394269943237),\n",
       " (u'apache', 0.9582288861274719),\n",
       " (u'postgresql', 0.9580531120300293),\n",
       " (u'lamp', 0.9545972347259521),\n",
       " (u'web_programming', 0.9428822994232178),\n",
       " (u'open_source', 0.9409627914428711),\n",
       " (u'magento_programmer', 0.9343174695968628),\n",
       " (u'ruby', 0.9330884218215942),\n",
       " (u'mobile_backend', 0.9306697845458984),\n",
       " (u'back_end', 0.9255185723304749)]"
      ]
     },
     "execution_count": 57,
     "metadata": {},
     "output_type": "execute_result"
    }
   ],
   "source": [
    "model.similar_by_word('mysql')"
   ]
  },
  {
   "cell_type": "code",
   "execution_count": 58,
   "metadata": {},
   "outputs": [
    {
     "data": {
      "text/plain": [
       "[(u'bigdata', 0.9943584203720093),\n",
       " (u'impala', 0.9931207895278931),\n",
       " (u'mapreduce', 0.9914442300796509),\n",
       " (u'cassandra', 0.9908468723297119),\n",
       " (u'data_engineering', 0.990485668182373),\n",
       " (u'hadoop', 0.9903513193130493),\n",
       " (u'hbase', 0.9897342324256897),\n",
       " (u'kafka', 0.9858869314193726),\n",
       " (u'technology_lead', 0.984150230884552),\n",
       " (u'pig', 0.9824539422988892)]"
      ]
     },
     "execution_count": 58,
     "metadata": {},
     "output_type": "execute_result"
    }
   ],
   "source": [
    "model.similar_by_word('spark')"
   ]
  },
  {
   "cell_type": "code",
   "execution_count": 59,
   "metadata": {},
   "outputs": [
    {
     "data": {
      "text/plain": [
       "[(u'microsoft_sql', 0.972418487071991),\n",
       " (u'sql_programming', 0.9670872688293457),\n",
       " (u'web_applications_development', 0.948645830154419),\n",
       " (u'tech_lead', 0.9451284408569336),\n",
       " (u'ms_sql', 0.9421033263206482),\n",
       " (u'schema', 0.9412420988082886),\n",
       " (u'full_stack_web_developer', 0.9409781098365784),\n",
       " (u'php_&amp;_mysql', 0.9397110939025879),\n",
       " (u'escripting', 0.9382137656211853),\n",
       " (u'object_oriented_analysis', 0.9375530481338501)]"
      ]
     },
     "execution_count": 59,
     "metadata": {},
     "output_type": "execute_result"
    }
   ],
   "source": [
    "model.similar_by_word('mssql')"
   ]
  },
  {
   "cell_type": "code",
   "execution_count": 60,
   "metadata": {},
   "outputs": [
    {
     "data": {
      "text/plain": [
       "[(u'nosql', 0.9886833429336548),\n",
       " (u'couchbase', 0.988598644733429),\n",
       " (u'couchdb', 0.9848181009292603),\n",
       " (u'elasticsearch', 0.984656572341919),\n",
       " (u'solr', 0.9841435551643372),\n",
       " (u'apache_cassandra', 0.9801466464996338),\n",
       " (u'apache_storm', 0.9799478054046631),\n",
       " (u'nltk', 0.9790542125701904),\n",
       " (u'rabbitmq', 0.977326512336731),\n",
       " (u'redis', 0.9768003225326538)]"
      ]
     },
     "execution_count": 60,
     "metadata": {},
     "output_type": "execute_result"
    }
   ],
   "source": [
    "model.similar_by_word('mongodb')"
   ]
  },
  {
   "cell_type": "code",
   "execution_count": 61,
   "metadata": {},
   "outputs": [
    {
     "data": {
      "text/plain": [
       "[(u'drupal', 0.969386100769043),\n",
       " (u'lamp', 0.9614812135696411),\n",
       " (u'mysql', 0.960339367389679),\n",
       " (u'magento_programmer', 0.9598082304000854),\n",
       " (u'web_programming', 0.9568572044372559),\n",
       " (u'magento', 0.9456802010536194),\n",
       " (u'php5', 0.9439440965652466),\n",
       " (u'cakephp', 0.9416296482086182),\n",
       " (u'zend', 0.9413989186286926),\n",
       " (u'wordpress', 0.9357210993766785)]"
      ]
     },
     "execution_count": 61,
     "metadata": {},
     "output_type": "execute_result"
    }
   ],
   "source": [
    "model.similar_by_word('php')"
   ]
  },
  {
   "cell_type": "code",
   "execution_count": 62,
   "metadata": {},
   "outputs": [
    {
     "data": {
      "text/plain": [
       "[(u'ruby', 0.9746548533439636),\n",
       " (u'open_source', 0.9600200057029724),\n",
       " (u'rails', 0.9464935064315796),\n",
       " (u'stream_processing', 0.9434801340103149),\n",
       " (u'aws_redshift', 0.9425311088562012),\n",
       " (u'algorithm_development', 0.9410309791564941),\n",
       " (u'go', 0.9402406215667725),\n",
       " (u'beanstalk', 0.9382527470588684),\n",
       " (u'elastic', 0.9333773851394653),\n",
       " (u'golang', 0.9314897656440735)]"
      ]
     },
     "execution_count": 62,
     "metadata": {},
     "output_type": "execute_result"
    }
   ],
   "source": [
    "model.similar_by_word('python')"
   ]
  },
  {
   "cell_type": "code",
   "execution_count": 63,
   "metadata": {},
   "outputs": [
    {
     "data": {
      "text/plain": [
       "[(u'hdfs', 0.9924248456954956),\n",
       " (u'spark', 0.9903512597084045),\n",
       " (u'hbase', 0.9895133972167969),\n",
       " (u'hive', 0.9889016151428223),\n",
       " (u'pig', 0.9861100316047668),\n",
       " (u'impala', 0.9814884662628174),\n",
       " (u'bigdata', 0.9813886284828186),\n",
       " (u'mapreduce', 0.9811796545982361),\n",
       " (u'big_data', 0.980154275894165),\n",
       " (u'data_engineering', 0.9794590473175049)]"
      ]
     },
     "execution_count": 63,
     "metadata": {},
     "output_type": "execute_result"
    }
   ],
   "source": [
    "model.similar_by_word('hadoop')"
   ]
  },
  {
   "cell_type": "code",
   "execution_count": 66,
   "metadata": {},
   "outputs": [
    {
     "data": {
      "text/plain": [
       "[(u'novartis', 0.9976255297660828),\n",
       " (u'e_tendering', 0.9975721836090088),\n",
       " (u'*_app_portfolio', 0.9974875450134277),\n",
       " (u'day_shift_fresher', 0.9974828958511353),\n",
       " (u'btech_it', 0.9974105954170227),\n",
       " (u'icsr', 0.9974032640457153),\n",
       " (u'surface_treatment', 0.9973805546760559),\n",
       " (u'technology_expert', 0.9973465204238892),\n",
       " (u'teacher_maths', 0.9973216652870178),\n",
       " (u'science_faculty', 0.9972285032272339)]"
      ]
     },
     "execution_count": 66,
     "metadata": {},
     "output_type": "execute_result"
    }
   ],
   "source": [
    "model.similar_by_word('odoo')"
   ]
  },
  {
   "cell_type": "code",
   "execution_count": 67,
   "metadata": {},
   "outputs": [
    {
     "data": {
      "text/plain": [
       "[(u'bootstrap', 0.9982417821884155),\n",
       " (u'angular.js', 0.9967599511146545),\n",
       " (u'angularjs', 0.9963353872299194),\n",
       " (u'backbone', 0.9952819347381592),\n",
       " (u'node', 0.9948089122772217),\n",
       " (u'angular_js', 0.994003415107727),\n",
       " (u'node_js', 0.9935702085494995),\n",
       " (u'ember.js', 0.9926894903182983),\n",
       " (u'backbone.js', 0.9923025965690613),\n",
       " (u'reactjs', 0.9904549717903137)]"
      ]
     },
     "execution_count": 67,
     "metadata": {},
     "output_type": "execute_result"
    }
   ],
   "source": [
    "model.similar_by_word('angular')"
   ]
  },
  {
   "cell_type": "code",
   "execution_count": 68,
   "metadata": {},
   "outputs": [
    {
     "data": {
      "text/plain": [
       "[(u'angular_js', 0.9976631999015808),\n",
       " (u'ember.js', 0.9973013401031494),\n",
       " (u'bootstrap', 0.9971421957015991),\n",
       " (u'angular', 0.9963353872299194),\n",
       " (u'angular.js', 0.9956628084182739),\n",
       " (u'node', 0.9951099157333374),\n",
       " (u'backbone.js', 0.9949899911880493),\n",
       " (u'backbone', 0.9948475360870361),\n",
       " (u'reactjs', 0.9940376281738281),\n",
       " (u'angular_-_js', 0.992024838924408)]"
      ]
     },
     "execution_count": 68,
     "metadata": {},
     "output_type": "execute_result"
    }
   ],
   "source": [
    "model.similar_by_word('angularjs')"
   ]
  },
  {
   "cell_type": "code",
   "execution_count": 72,
   "metadata": {},
   "outputs": [
    {
     "data": {
      "text/plain": [
       "[(u'angular_js', 0.9976631999015808),\n",
       " (u'ember.js', 0.9973013401031494),\n",
       " (u'bootstrap', 0.9971421957015991),\n",
       " (u'angular', 0.9963353872299194),\n",
       " (u'angular.js', 0.9956628084182739),\n",
       " (u'node', 0.9951099157333374),\n",
       " (u'backbone.js', 0.9949899911880493),\n",
       " (u'backbone', 0.9948475360870361),\n",
       " (u'reactjs', 0.9940376281738281),\n",
       " (u'angular_-_js', 0.992024838924408)]"
      ]
     },
     "execution_count": 72,
     "metadata": {},
     "output_type": "execute_result"
    }
   ],
   "source": [
    "model.similar_by_word('angularjs')"
   ]
  },
  {
   "cell_type": "code",
   "execution_count": null,
   "metadata": {
    "collapsed": true
   },
   "outputs": [],
   "source": []
  }
 ],
 "metadata": {
  "anaconda-cloud": {},
  "kernelspec": {
   "display_name": "Python 3",
   "language": "python",
   "name": "python3"
  },
  "language_info": {
   "codemirror_mode": {
    "name": "ipython",
    "version": 3
   },
   "file_extension": ".py",
   "mimetype": "text/x-python",
   "name": "python",
   "nbconvert_exporter": "python",
   "pygments_lexer": "ipython3",
   "version": "3.7.4"
  }
 },
 "nbformat": 4,
 "nbformat_minor": 1
}
